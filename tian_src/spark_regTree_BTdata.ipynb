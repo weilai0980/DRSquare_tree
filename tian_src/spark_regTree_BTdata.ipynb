{
 "cells": [
  {
   "cell_type": "code",
   "execution_count": 2,
   "metadata": {
    "collapsed": true
   },
   "outputs": [],
   "source": [
    "%matplotlib inline\n",
    "\n",
    "import os \n",
    "import sys \n",
    "import time\n",
    "import hashlib\n",
    "\n",
    "from datetime  import datetime \n",
    "\n",
    "import numpy as np  # learn \n",
    "import pandas as pd # learn\n",
    "from pandas import *\n",
    "from numpy import *\n",
    "\n",
    "from scipy import stats # look at scipy\n",
    "from scipy import linalg\n",
    "from scipy import *\n",
    "\n",
    " \n",
    "import matplotlib as mplt # learn matplolib \n",
    "from matplotlib import cm\n",
    "import matplotlib.pyplot as plt\n",
    "import matplotlib.gridspec as gridspec\n",
    "\n",
    "from mpl_toolkits.mplot3d import Axes3D\n",
    "from mpl_toolkits.mplot3d import proj3d\n",
    "\n",
    "import seaborn as sns \n",
    "sns.set_style(\"whitegrid\")\n",
    "sns.set(rc={\"figure.figsize\": (14, 6)})\n",
    "\n",
    "import IPython\n",
    "from IPython.display import display\n",
    "\n",
    "\n",
    "import matplotlib\n",
    "from matplotlib.ticker import FuncFormatter\n",
    "import matplotlib.pyplot as plt\n",
    " \n",
    "import sklearn as sk\n",
    "import itertools\n",
    "\n",
    "\n",
    "\n",
    "from pyspark import SparkContext, SparkConf\n",
    "from pyspark.sql import SQLContext\n",
    "from pyspark.sql.types import *\n",
    "\n",
    "from pyspark.mllib.regression import LabeledPoint\n"
   ]
  },
  {
   "cell_type": "code",
   "execution_count": 4,
   "metadata": {
    "collapsed": false
   },
   "outputs": [
    {
     "name": "stdout",
     "output_type": "stream",
     "text": [
      "123982,1397195065,4,11,7,5,160,64000,10046236,500,500,500,500,384,297,87851,1,0,288599,1.0,4.0,11.0,2.0\n"
     ]
    }
   ],
   "source": [
    "# data preparison: load data\n",
    "dta_RDD = sc.textFile(\"file:///home/tguo/data/tian-test/udpjitter-H1april2014_regTree.csv\")\n",
    "\n",
    "# data preparison:  feature index dictionary in the raw data set \n",
    "\n",
    "dict_feature = {'unit_id': 0,\n",
    "       'dtime': 1,\n",
    "        'day': 2,\n",
    "        'hour': 3,\n",
    "        'minute': 4,\n",
    "        'target': 5,\n",
    "        'packet_size': 6,\n",
    "        'stream_rate': 7,\n",
    "        'duration':8,\n",
    "        'packets_up_sent':9,\n",
    "        'packets_down_sent':10,\n",
    "        'packets_up_recv':11,\n",
    "        'packets_down_recv':12,\n",
    "        'jitter_up':13,\n",
    "        'jitter_down':14,\n",
    "        'latency':15,\n",
    "        'successes':16,\n",
    "        'failures':17,\n",
    "        'location_id':18,\n",
    "        'ranNode':19,\n",
    "        'apNode':20,\n",
    "        'hubType':21,\n",
    "        'headlineSpeed':22\n",
    "       };\n",
    "\n",
    "dict_feature_distValues = {\n",
    "       #'unit_id': 0,\n",
    "       #'dtime': 1,\n",
    "        'day': 1,\n",
    "        'hour': 15,\n",
    "        'minute': 24, # remember to change\n",
    "        'target': 10,\n",
    "        #'packet_size': 6,\n",
    "        #'stream_rate': 7,\n",
    "        #'duration':8,\n",
    "        #'packets_up_sent':9,\n",
    "        #'packets_down_sent':10,\n",
    "        #'packets_up_recv':11,\n",
    "        #'packets_down_recv':12,\n",
    "        #'jitter_up':13,\n",
    "        #'jitter_down':14,\n",
    "        #'latency':15,\n",
    "        #'successes':16,\n",
    "        #'failures':17,\n",
    "        #'location_id':18,\n",
    "        'ranNode':5,\n",
    "        'apNode':21,\n",
    "        'hubType':13,\n",
    "        'headlineSpeed':4\n",
    "       };\n",
    "\n",
    "categorial_features = ['target', 'ranNode', 'apNode', 'hubType','headlineSpeed']\n",
    "\n",
    "header = dta_RDD.filter(lambda line: \"unit_id\" in line)\n",
    "# toremove_header.collect()\n",
    "\n",
    "# header=dta_RDD.take(1)\n",
    "# print type(header)\n",
    "dta_noheader= dta_RDD.subtract(header)   \n",
    "\n",
    "print dta_noheader.first()\n",
    "\n"
   ]
  },
  {
   "cell_type": "code",
   "execution_count": 27,
   "metadata": {
    "collapsed": false
   },
   "outputs": [
    {
     "ename": "NameError",
     "evalue": "name 'r' is not defined",
     "output_type": "error",
     "traceback": [
      "\u001b[1;31m---------------------------------------------------------------------------\u001b[0m",
      "\u001b[1;31mNameError\u001b[0m                                 Traceback (most recent call last)",
      "\u001b[1;32m<ipython-input-27-9ea9d7586679>\u001b[0m in \u001b[0;36m<module>\u001b[1;34m()\u001b[0m\n\u001b[1;32m----> 1\u001b[1;33m dta_splited = dta_noheader.map(lambda line: line.split(\",\")).map(lambda r:r[0],r[1],  float(r[2]), float(r[3]),\n\u001b[0m\u001b[0;32m      2\u001b[0m                                                                 \u001b[0mfloat\u001b[0m\u001b[1;33m(\u001b[0m\u001b[0mr\u001b[0m\u001b[1;33m[\u001b[0m\u001b[1;36m4\u001b[0m\u001b[1;33m]\u001b[0m\u001b[1;33m)\u001b[0m\u001b[1;33m,\u001b[0m \u001b[0mfloat\u001b[0m\u001b[1;33m(\u001b[0m\u001b[0mr\u001b[0m\u001b[1;33m[\u001b[0m\u001b[1;36m5\u001b[0m\u001b[1;33m]\u001b[0m\u001b[1;33m)\u001b[0m\u001b[1;33m,\u001b[0m \u001b[0mfloat\u001b[0m\u001b[1;33m(\u001b[0m\u001b[0mr\u001b[0m\u001b[1;33m[\u001b[0m\u001b[1;36m6\u001b[0m\u001b[1;33m]\u001b[0m\u001b[1;33m)\u001b[0m\u001b[1;33m,\u001b[0m \u001b[0mfloat\u001b[0m\u001b[1;33m(\u001b[0m\u001b[0mr\u001b[0m\u001b[1;33m[\u001b[0m\u001b[1;36m7\u001b[0m\u001b[1;33m]\u001b[0m\u001b[1;33m)\u001b[0m\u001b[1;33m,\u001b[0m\u001b[1;33m\u001b[0m\u001b[0m\n\u001b[0;32m      3\u001b[0m                                                                 \u001b[0mfloat\u001b[0m\u001b[1;33m(\u001b[0m\u001b[0mr\u001b[0m\u001b[1;33m[\u001b[0m\u001b[1;36m8\u001b[0m\u001b[1;33m]\u001b[0m\u001b[1;33m)\u001b[0m\u001b[1;33m,\u001b[0m \u001b[0mfloat\u001b[0m\u001b[1;33m(\u001b[0m\u001b[0mr\u001b[0m\u001b[1;33m[\u001b[0m\u001b[1;36m9\u001b[0m\u001b[1;33m]\u001b[0m\u001b[1;33m)\u001b[0m\u001b[1;33m,\u001b[0m \u001b[0mfloat\u001b[0m\u001b[1;33m(\u001b[0m\u001b[0mr\u001b[0m\u001b[1;33m[\u001b[0m\u001b[1;36m10\u001b[0m\u001b[1;33m]\u001b[0m\u001b[1;33m)\u001b[0m\u001b[1;33m,\u001b[0m\u001b[0mfloat\u001b[0m\u001b[1;33m(\u001b[0m\u001b[0mr\u001b[0m\u001b[1;33m[\u001b[0m\u001b[1;36m11\u001b[0m\u001b[1;33m]\u001b[0m\u001b[1;33m)\u001b[0m\u001b[1;33m,\u001b[0m\u001b[1;33m\u001b[0m\u001b[0m\n\u001b[0;32m      4\u001b[0m                                                                 \u001b[0mfloat\u001b[0m\u001b[1;33m(\u001b[0m\u001b[0mr\u001b[0m\u001b[1;33m[\u001b[0m\u001b[1;36m12\u001b[0m\u001b[1;33m]\u001b[0m\u001b[1;33m)\u001b[0m\u001b[1;33m,\u001b[0m\u001b[0mfloat\u001b[0m\u001b[1;33m(\u001b[0m\u001b[0mr\u001b[0m\u001b[1;33m[\u001b[0m\u001b[1;36m13\u001b[0m\u001b[1;33m]\u001b[0m\u001b[1;33m)\u001b[0m\u001b[1;33m,\u001b[0m\u001b[0mfloat\u001b[0m\u001b[1;33m(\u001b[0m\u001b[0mr\u001b[0m\u001b[1;33m[\u001b[0m\u001b[1;36m14\u001b[0m\u001b[1;33m]\u001b[0m\u001b[1;33m)\u001b[0m\u001b[1;33m,\u001b[0m\u001b[0mfloat\u001b[0m\u001b[1;33m(\u001b[0m\u001b[0mr\u001b[0m\u001b[1;33m[\u001b[0m\u001b[1;36m15\u001b[0m\u001b[1;33m]\u001b[0m\u001b[1;33m)\u001b[0m\u001b[1;33m,\u001b[0m\u001b[1;33m\u001b[0m\u001b[0m\n\u001b[0;32m      5\u001b[0m                                                                 \u001b[0mfloat\u001b[0m\u001b[1;33m(\u001b[0m\u001b[0mr\u001b[0m\u001b[1;33m[\u001b[0m\u001b[1;36m16\u001b[0m\u001b[1;33m]\u001b[0m\u001b[1;33m)\u001b[0m\u001b[1;33m,\u001b[0m\u001b[0mfloat\u001b[0m\u001b[1;33m(\u001b[0m\u001b[0mr\u001b[0m\u001b[1;33m[\u001b[0m\u001b[1;36m17\u001b[0m\u001b[1;33m]\u001b[0m\u001b[1;33m)\u001b[0m\u001b[1;33m,\u001b[0m\u001b[0mfloat\u001b[0m\u001b[1;33m(\u001b[0m\u001b[0mr\u001b[0m\u001b[1;33m[\u001b[0m\u001b[1;36m18\u001b[0m\u001b[1;33m]\u001b[0m\u001b[1;33m)\u001b[0m\u001b[1;33m,\u001b[0m\u001b[0mfloat\u001b[0m\u001b[1;33m(\u001b[0m\u001b[0mr\u001b[0m\u001b[1;33m[\u001b[0m\u001b[1;36m19\u001b[0m\u001b[1;33m]\u001b[0m\u001b[1;33m)\u001b[0m\u001b[1;33m,\u001b[0m\u001b[1;33m\u001b[0m\u001b[0m\n",
      "\u001b[1;31mNameError\u001b[0m: name 'r' is not defined"
     ]
    }
   ],
   "source": [
    "dta_splited = dta_noheader.map(lambda line: line.split(\",\")).map(lambda r: (r[0],r[1],  float(r[2]), float(r[3]),\n",
    "                                                                float(r[4]), float(r[5]), float(r[6]), float(r[7]),\n",
    "                                                                float(r[8]), float(r[9]), float(r[10]),float(r[11]),\n",
    "                                                                float(r[12]),float(r[13]),float(r[14]),float(r[15]),\n",
    "                                                                float(r[16]),float(r[17]),float(r[18]),float(r[19]),\n",
    "                                                                float(r[20]),float(r[21]),float(r[22]))  )\n"
   ]
  },
  {
   "cell_type": "code",
   "execution_count": 6,
   "metadata": {
    "collapsed": false
   },
   "outputs": [
    {
     "name": "stdout",
     "output_type": "stream",
     "text": [
      "loaded data\n"
     ]
    }
   ],
   "source": [
    "\n",
    "dict_dta_columns = {'jitter_down':0,'hour':1 ,'minute':2 ,'target':3, \n",
    "                    'ranNode':4, 'apNode':5, 'hubType':6,'headlineSpeed':7}\n",
    "\n",
    "categorial_features = [ 'ranNode','apNode', 'hubType','headlineSpeed' ]\n",
    "\n",
    "dta_columns= dta_splited.map( lambda line: ( line[ dict_feature['jitter_down']], line[ dict_feature['hour']], \n",
    "                            line[ dict_feature['minute']],      line[ dict_feature['target']],\n",
    "                            line[ dict_feature['ranNode']],     line[ dict_feature['apNode']],\n",
    "                            line[ dict_feature['hubType']],     line[ dict_feature['headlineSpeed']]  \n",
    "                           ))\n",
    "\n",
    "print 'loaded data'\n",
    "\n",
    "dta_ready=dta_columns\n",
    "\n",
    "# for test\n",
    "#dta_ready= dta_columns.take(100000) \n",
    "#dta_ready= sc.parallelize(dta_ready)\n"
   ]
  },
  {
   "cell_type": "code",
   "execution_count": 35,
   "metadata": {
    "collapsed": false
   },
   "outputs": [
    {
     "data": {
      "text/plain": [
       "[(278.0, 6.0, 7.0, 9.0, 5.0, 8.0, 12.0, 4.0),\n",
       " (450.0, 2.0, 16.0, 4.0, 6.0, 10.0, 10.0, 4.0)]"
      ]
     },
     "execution_count": 35,
     "metadata": {},
     "output_type": "execute_result"
    }
   ],
   "source": [
    "dta_ready.take(2)\n",
    "\n",
    "[278.0, 6.0, 7.0, 9.0, 4, 16, 3, 2], [450.0, 2.0, 16.0, 4.0, 1, 10, 6, 2]"
   ]
  },
  {
   "cell_type": "code",
   "execution_count": 49,
   "metadata": {
    "collapsed": false
   },
   "outputs": [
    {
     "name": "stdout",
     "output_type": "stream",
     "text": [
      "4\n",
      "5 {0.0: 0, 1.0: 2, 2.0: 3, 5.0: 4, 6.0: 1}\n",
      "21 {0.0: 0, 1.0: 7, 2.0: 14, 3.0: 1, 4.0: 8, 5.0: 15, 6.0: 2, 7.0: 9, 8.0: 16, 9.0: 3, 10.0: 10, 11.0: 17, 12.0: 4, 13.0: 11, 14.0: 18, 15.0: 5, 16.0: 12, 17.0: 19, 18.0: 6, 19.0: 13, 20.0: 20}\n",
      "13 {0.0: 0, 1.0: 5, 2.0: 10, 3.0: 2, 4.0: 7, 5.0: 12, 6.0: 4, 7.0: 8, 8.0: 9, 9.0: 1, 10.0: 6, 11.0: 11, 12.0: 3}\n",
      "4 {0.0: 0, 2.0: 3, 3.0: 1, 4.0: 2}\n"
     ]
    }
   ],
   "source": [
    "def reset_index_categ(fulldata_rdd, feature):\n",
    "    numValues=  dict_feature_distValues[feature]\n",
    "    values= fulldata_rdd.map(lambda line: line[ dict_dta_columns[feature] ]).distinct().collect()\n",
    "    return dict(zip(values, range(0,numValues)))\n",
    "     \n",
    "numCateFeature = len(categorial_features)\n",
    "\n",
    "print numCateFeature\n",
    "\n",
    "index_cateFeatures=[]\n",
    "for i in range(0,numCateFeature):\n",
    "    tmpdict= reset_index_categ(dta_ready, categorial_features[i]) \n",
    "    index_cateFeatures.append(tmpdict)\n",
    "    print len(tmpdict),tmpdict"
   ]
  },
  {
   "cell_type": "code",
   "execution_count": 7,
   "metadata": {
    "collapsed": true
   },
   "outputs": [],
   "source": [
    "index_cateFeatures=[]\n",
    "\n",
    "# categorial_features = ['target', 'ranNode', 'apNode', 'hubType','headlineSpeed']\n",
    "\n",
    "# tmpdict={0.0: 0, 1.0: 4, 2.0: 8, 3.0: 2, 4.0: 5, 5.0: 9, 6.0: 3, 7.0: 6, 8.0: 7, 9.0: 1}\n",
    "# index_cateFeatures.append(tmpdict)\n",
    "\n",
    "tmpdict={0.0: 0, 1.0: 2, 2.0: 3, 5.0: 4, 6.0: 1}\n",
    "index_cateFeatures.append(tmpdict)\n",
    "\n",
    "tmpdict={0.0: 0, 1.0: 7, 2.0: 14, 3.0: 1, 4.0: 8, 5.0: 15, 6.0: 2, 7.0: 9, 8.0: 16, 9.0: 3, 10.0: 10, 11.0: 17, 12.0: 4, \n",
    "         13.0: 11, 14.0: 18, 15.0: 5, 16.0: 12, 17.0: 19, 18.0: 6, 19.0: 13, 20.0: 20}\n",
    "index_cateFeatures.append(tmpdict)\n",
    "\n",
    "tmpdict={0.0: 0, 1.0: 5, 2.0: 10, 3.0: 2, 4.0: 7, 5.0: 12, 6.0: 4, 7.0: 8, 8.0: 9, 9.0: 1, 10.0: 6, 11.0: 11, 12.0: 3}\n",
    "index_cateFeatures.append(tmpdict)\n",
    "\n",
    "tmpdict={0.0: 0, 2.0: 3, 3.0: 1, 4.0: 2}\n",
    "index_cateFeatures.append(tmpdict)"
   ]
  },
  {
   "cell_type": "code",
   "execution_count": 8,
   "metadata": {
    "collapsed": false
   },
   "outputs": [
    {
     "name": "stdout",
     "output_type": "stream",
     "text": [
      "[4, 5, 6, 7]\n"
     ]
    }
   ],
   "source": [
    "categorial_features_idx=[]\n",
    "\n",
    "def feature_idx(feat):\n",
    "    return dict_dta_columns[feat]\n",
    "\n",
    "categorial_features_idx = map(feature_idx, categorial_features)\n",
    "print categorial_features_idx\n"
   ]
  },
  {
   "cell_type": "code",
   "execution_count": 25,
   "metadata": {
    "collapsed": false
   },
   "outputs": [
    {
     "data": {
      "text/plain": [
       "(1, 2, 1)"
      ]
     },
     "execution_count": 25,
     "metadata": {},
     "output_type": "execute_result"
    }
   ],
   "source": [
    "tmprow= (1,2)\n",
    "tmprow= tmprow + (1,)\n",
    "tmprow\n"
   ]
  },
  {
   "cell_type": "code",
   "execution_count": 21,
   "metadata": {
    "collapsed": false
   },
   "outputs": [
    {
     "data": {
      "text/plain": [
       "(385.0, 8.0, 9.0, 2.0, 2, 8, 1, 3)"
      ]
     },
     "execution_count": 21,
     "metadata": {},
     "output_type": "execute_result"
    }
   ],
   "source": [
    "def transform_line(line):\n",
    "    tmprow = ()\n",
    "    for i in range(0,cnt_dta_columns):\n",
    "        if i in categorial_features_idx:\n",
    "            tmprow= tmprow+ (index_cateFeatures[ i-4 ][ line[i] ],)\n",
    "            \n",
    "#             tmpline.append(  index_cateFeatures[ i-4 ][ line[i] ] )\n",
    "        else:\n",
    "        \n",
    "#             tmprow = tmprow + (index_cateFeatures[ i-4 ][ line[i] ]\n",
    "            tmprow = tmprow + (line[i],)        \n",
    "    return tmprow\n",
    "\n",
    "cnt_dta_columns = len(dict_dta_columns) \n",
    "\n",
    "dta_resetIdx = dta_ready.map(lambda line: transform_line(line))\n",
    "\n",
    "dta_resetIdx.first()\n",
    "\n",
    "# categorial_features_idx.index(i)"
   ]
  },
  {
   "cell_type": "code",
   "execution_count": 36,
   "metadata": {
    "collapsed": false
   },
   "outputs": [
    {
     "data": {
      "text/plain": [
       "(267.0, 9.0, 13.0, 8.0, 2, 13, 3, 2)"
      ]
     },
     "execution_count": 36,
     "metadata": {},
     "output_type": "execute_result"
    }
   ],
   "source": [
    "dta_resetIdx.first()\n"
   ]
  },
  {
   "cell_type": "code",
   "execution_count": 35,
   "metadata": {
    "collapsed": false
   },
   "outputs": [],
   "source": [
    "dta_resetIdx.map(lambda line: str(line[0])+ \",\" + str(line[1])+ \n",
    "                              \",\" + str(line[2])+ \",\" + str(line[3])+ \n",
    "                              \",\" + str(line[4])+ \",\" + str(line[5])+\n",
    "                              \",\" + str(line[6])+ \",\" + str(line[7]) \n",
    "                ).saveAsTextFile(\"hdfs://computer61.ant-net/user/tguo/udpjitter-H1april2014_regTree_mllib.csv\")\n",
    "\n",
    "# saveAsTextFile(\"hdfs://computer61.ant-net/user/tguo/tian_udpjitter-H1april2014_regTree_mllib.csv\")"
   ]
  },
  {
   "cell_type": "code",
   "execution_count": 37,
   "metadata": {
    "collapsed": true
   },
   "outputs": [],
   "source": [
    "#model training: cross-validation for regression tree with categorical features\n",
    "from pyspark.mllib.regression import LabeledPoint\n",
    "from pyspark.mllib.tree import DecisionTree, DecisionTreeModel\n",
    "from pyspark.mllib.util import MLUtils\n",
    "\n",
    "training_error=[]\n",
    "test_error=[]\n",
    "\n",
    "labeledData=  dta_resetIdx.map(lambda line: LabeledPoint( \n",
    "        line[0],[line[1],line[2],line[3],\n",
    "        line[4], line[5],line[6],line[7]]))\n"
   ]
  },
  {
   "cell_type": "code",
   "execution_count": 52,
   "metadata": {
    "collapsed": false
   },
   "outputs": [],
   "source": [
    "(datasubset, test_subset) = labeledData.randomSplit([0.005, 0.2])"
   ]
  },
  {
   "cell_type": "code",
   "execution_count": 53,
   "metadata": {
    "collapsed": false
   },
   "outputs": [
    {
     "name": "stdout",
     "output_type": "stream",
     "text": [
      "80604\n"
     ]
    }
   ],
   "source": [
    "# print labeledData.count()\n",
    "print datasubset.count()"
   ]
  },
  {
   "cell_type": "code",
   "execution_count": 54,
   "metadata": {
    "collapsed": false
   },
   "outputs": [
    {
     "name": "stdout",
     "output_type": "stream",
     "text": [
      "<class 'pyspark.rdd.PipelinedRDD'>\n"
     ]
    }
   ],
   "source": [
    "print type(datasubset)"
   ]
  },
  {
   "cell_type": "code",
   "execution_count": null,
   "metadata": {
    "collapsed": false
   },
   "outputs": [],
   "source": [
    "\n",
    "depth_up=5\n",
    "depth_low=4\n",
    "\n",
    "test_labeledData= datasubset\n",
    "\n",
    "test_labeledData=labeledData\n",
    "\n",
    "# test_labeledData= datasubset.take(1000000) \n",
    "# test_labeledData= sc.parallelize(test_labeledData)\n",
    "\n",
    "(trainingData, testData) = test_labeledData.randomSplit([0.8, 0.2])\n",
    "\n",
    "test_labels = testData.map(lambda lp: lp.label)\n",
    "# local_test_labels = test_labels.collect()\n",
    "\n",
    "train_labels = trainingData.map(lambda lp: lp.label)\n",
    "# local_train_labels = train_labels.collect()\n",
    "\n",
    "test_size= len(local_test_labels) \n",
    "train_size= len(local_train_labels) \n",
    "\n",
    "\n",
    "# {'jitter_down':0,'hour':1 ,'minute':2 ,'target':3, \n",
    "#                     'ranNode':4, 'apNode':5, 'hubType':6,'headlineSpeed':7}\n",
    "\n",
    "# 'day': 1,\n",
    "#         'hour': 15,\n",
    "#         'minute': 4,\n",
    "#         'target': 10,\n",
    "#         #'packet_size': 6,\n",
    "#         #'stream_rate': 7,\n",
    "#         #'duration':8,\n",
    "#         #'packets_up_sent':9,\n",
    "#         #'packets_down_sent':10,\n",
    "#         #'packets_up_recv':11,\n",
    "#         #'packets_down_recv':12,\n",
    "#         #'jitter_up':13,\n",
    "#         #'jitter_down':14,\n",
    "#         #'latency':15,\n",
    "#         #'successes':16,\n",
    "#         #'failures':17,\n",
    "#         #'location_id':18,\n",
    "#         'ranNode':5,\n",
    "#         'apNode':21,\n",
    "#         'hubType':13,\n",
    "#         'headlineSpeed':4\n",
    "\n",
    "start = time.time()\n",
    "\n",
    "for depth in range(depth_low, depth_up):\n",
    "    \n",
    "\n",
    "    model = DecisionTree.trainRegressor(trainingData, categoricalFeaturesInfo={\n",
    "                                                                           0:25,\n",
    "                                                                           1:61,\n",
    "                                                                           2:10,\n",
    "                                                                           3:5,\n",
    "                                                                           4:21,\n",
    "                                                                           5:13,\n",
    "                                                                           6:4,\n",
    "    },\n",
    "                                    impurity='variance', maxDepth=depth, maxBins=64)\n",
    "    \n",
    "  \n",
    "\n",
    "    test_predictions = model.predict(testData.map(lambda x: x.features))\n",
    "    local_test_predictions = test_predictions.collect()\n",
    "    \n",
    "    \n",
    "    train_predictions = model.predict(trainingData.map(lambda x: x.features))\n",
    "    local_train_predictions = train_predictions.collect()\n",
    "\n",
    "\n",
    "    # test error\n",
    "    local_test_resid=map( lambda x,y: (x-y)*(x-y), local_test_predictions,local_test_labels )\n",
    "    test_error.append( sum(local_test_resid)/test_size  )\n",
    "    \n",
    "    #training error \n",
    "    local_train_resid=map( lambda x,y: (x-y)*(x-y), local_train_predictions,local_train_labels )\n",
    "    training_error.append( sum(local_train_resid)/train_size ) \n",
    "    \n",
    "    print depth,\"depth:\", sum(local_test_resid)/test_size,sum(local_train_resid)/train_size\n",
    "    print depth,model\n",
    "\n",
    "\n",
    "    \n",
    "end = time.time()\n",
    "elapsed = end - start\n",
    "\n",
    "print elapsed,'sec'"
   ]
  },
  {
   "cell_type": "code",
   "execution_count": 2,
   "metadata": {
    "collapsed": false
   },
   "outputs": [
    {
     "data": {
      "text/plain": [
       "u'328.0,10.0,10.0,2.0,2,8,1,3'"
      ]
     },
     "execution_count": 2,
     "metadata": {},
     "output_type": "execute_result"
    }
   ],
   "source": [
    "#BT data\n",
    "\n",
    "# dta_RDD = sc.textFile(\"file:///home/tguo/data/tian-test/udpjitter-H1april2014_regTree.csv\")\n",
    "\n",
    "dta_RDD = sc.textFile(\"hdfs://computer61.ant-net/user/tguo/udpjitter-H1april2014_regTree_mllib.csv\")\n",
    "\n",
    "\n",
    "dta_RDD.cache()\n",
    "dta_RDD.first()\n",
    "\n",
    "# dta_splited = dta_RDD.map(lambda line: line.split(\",\")).map(lambda r:\n",
    "#                                                                 (float(r[0]),int( float(r[1])), \n",
    "#                                                                  int(float(r[2])),int(float(r[3])),\n",
    "#                                                                  int(float(r[4])),int(float(r[5])),\n",
    "#                                                                  int(float(r[6])),int(float(r[7])) ))\n",
    "# # dta_splited.first()\n",
    "\n",
    "# dta= dta_splited\n",
    "# dta.cache()\n",
    "# print dta.first()\n",
    "# print dta.count()"
   ]
  },
  {
   "cell_type": "code",
   "execution_count": 6,
   "metadata": {
    "collapsed": false
   },
   "outputs": [
    {
     "data": {
      "text/plain": [
       "3315067"
      ]
     },
     "execution_count": 6,
     "metadata": {},
     "output_type": "execute_result"
    }
   ],
   "source": [
    "dta_splited = dta_RDD.map(lambda line: line.split(\",\")).map(lambda r:\n",
    "                                                                (float(r[0]),int( float(r[1])), \n",
    "                                                                 int(float(r[2])),int(float(r[3])),\n",
    "                                                                 int(float(r[4])),int(float(r[5])),\n",
    "                                                                 int(float(r[6])),int(float(r[7])) ))\n",
    "dta_splited.first()\n",
    "dta = dta_splited\n",
    "dta.cache()\n",
    "dta.count()\n"
   ]
  },
  {
   "cell_type": "code",
   "execution_count": 379,
   "metadata": {
    "collapsed": false
   },
   "outputs": [],
   "source": [
    "ccd= pd.read_csv('./tmpdta/ccd95_12.csv')\n",
    "cross= pd.read_csv('./tmpdta/crosswalk.csv')\n",
    "hh= pd.read_csv('./tmpdta/HH07_15.csv')\n",
    "\n",
    "certi=pd.read_csv('./tmpdta/Certification02_15.csv')\n",
    "demo= pd.read_csv('./tmpdta/demographic91_15.csv')\n",
    "disci= pd.read_csv('./tmpdta/discipline2001_2015.csv')\n",
    "dropout= pd.read_csv('./tmpdta/dropout1991_2015.csv')\n",
    "enro= pd.read_csv('./tmpdta/enrollment1991_2015.csv')\n",
    "fac= pd.read_csv('./tmpdta/faculty91_15.csv')\n",
    "gradu= pd.read_csv('./tmpdta/graduateanalysis91_15.csv')\n",
    "lep= pd.read_csv('./tmpdta/LEPELL.csv')\n",
    "ratio= pd.read_csv('./tmpdta/ratio91_15.csv')\n",
    "att= pd.read_csv('./tmpdta/attendance02_13.csv')\n",
    "\n",
    "# hh: maximum 91-15 \n",
    "# merged1\n",
    "# merged1+ccd: 91-12\n",
    "    \n",
    "# leaid    \n",
    "    \n",
    "dtalist=[]\n",
    "\n",
    "dtalist.append(hh)\n",
    "dtalist.append(ccd)\n",
    "\n",
    "dtalist.append(demo)\n",
    "dtalist.append(certi)\n",
    "dtalist.append(disci)        \n",
    "dtalist.append(dropout)\n",
    "dtalist.append(enro)             \n",
    "dtalist.append(fac)\n",
    "dtalist.append(gradu)\n",
    "dtalist.append(lep)\n",
    "dtalist.append(ratio)\n",
    "dtalist.append(att)"
   ]
  },
  {
   "cell_type": "code",
   "execution_count": 378,
   "metadata": {
    "collapsed": false
   },
   "outputs": [
    {
     "data": {
      "text/plain": [
       "Index([u'YEAR', u'COUNTY_DISTRICT_CODE', u'DISTRICT_NAME',\n",
       "       u'ENROLLMENT_GRADES_PK', u'ENROLLMENT_GRADES_K',\n",
       "       u'ENROLLMENT_GRADES_01', u'ENROLLMENT_GRADES_02',\n",
       "       u'ENROLLMENT_GRADES_03', u'ENROLLMENT_GRADES_04',\n",
       "       u'ENROLLMENT_GRADES_05', u'ENROLLMENT_GRADES_06',\n",
       "       u'ENROLLMENT_GRADES_07', u'ENROLLMENT_GRADES_08',\n",
       "       u'ENROLLMENT_GRADES_09', u'ENROLLMENT_GRADES_10',\n",
       "       u'ENROLLMENT_GRADES_11', u'ENROLLMENT_GRADES_12',\n",
       "       u'ENROLLMENT_GRADES_K_8', u'ENROLLMENT_GRADES_9_12',\n",
       "       u'ENROLLMENT_GRADES_K_12', u'ENROLLMENT_GRADE_PK_12'],\n",
       "      dtype='object')"
      ]
     },
     "execution_count": 378,
     "metadata": {},
     "output_type": "execute_result"
    }
   ],
   "source": [
    "entro.columns"
   ]
  },
  {
   "cell_type": "code",
   "execution_count": 377,
   "metadata": {
    "collapsed": false
   },
   "outputs": [
    {
     "name": "stdout",
     "output_type": "stream",
     "text": [
      "[ 2015.    nan  2014.  2010.  2013.  2008.  2012.  2009.  2011.  2007.]\n",
      "[1995 1996 1997 1998 1999 2000 2001 2002 2003 2004 2005 2006 2007 2008 2009\n",
      " 2010 2011 2012]\n",
      "[ 1991.  1992.  1993.  1994.  1995.  1996.  1997.  1998.  1999.  2000.\n",
      "  2001.  2002.  2003.  2004.  2005.  2006.  2007.  2008.  2009.  2010.\n",
      "  2011.  2012.  2013.  2014.  2015.    nan]\n",
      "[2002 2003 2004 2005 2006 2007 2008 2009 2010 2011 2012 2013 2014 2015]\n",
      "[ 2001.  2002.  2003.  2004.  2005.  2006.  2007.  2008.  2009.  2010.\n",
      "  2011.  2012.  2013.  2014.  2015.    nan]\n",
      "[1991 1992 1993 1994 1995 1996 1997 1998 1999 2000 2001 2002 2003 2004 2005\n",
      " 2006 2007 2008 2009 2010 2011 2012 2013 2014 2015]\n",
      "[1991 1992 1993 1994 1995 1996 1997 1998 1999 2000 2001 2002 2003 2004 2005\n",
      " 2006 2007 2008 2009 2010 2011 2012 2013 2014 2015]\n",
      "[1991 1992 1993 1994 1995 1996 1997 1998 1999 2000 2001 2002 2003 2004 2005\n",
      " 2006 2007 2008 2009 2010 2011 2012 2013 2014 2015]\n",
      "[ 1991.  1992.  1993.  1994.  1995.  1996.  1997.  1998.  1999.  2000.\n",
      "  2001.  2002.  2003.  2004.  2005.  2006.  2007.  2008.  2009.  2010.\n",
      "  2011.  2012.  2013.  2014.  2015.    nan]\n",
      "[2010 2011 2012 2013 2014 2015]\n",
      "[1991 1992 1993 1994 1995 1996 1997 1998 1999 2000 2001 2002 2003 2004 2005\n",
      " 2006 2007 2008 2009 2010 2011 2012 2013 2014 2015]\n",
      "[2002 2003 2004 2005 2006 2007 2008 2009 2010 2011 2012 2013]\n"
     ]
    }
   ],
   "source": [
    "for i in dtalist:\n",
    "    print i['YEAR'].unique()"
   ]
  },
  {
   "cell_type": "code",
   "execution_count": 300,
   "metadata": {
    "collapsed": false
   },
   "outputs": [
    {
     "name": "stdout",
     "output_type": "stream",
     "text": [
      "1164\n",
      "586\n",
      "(1166, 2)\n"
     ]
    }
   ],
   "source": [
    "# map\n",
    "code_map=ccd[ ['DISTRICT_NAME','leaid']   ]\n",
    "code_map.drop_duplicates(inplace=True)\n",
    "\n",
    "print len(code_map['DISTRICT_NAME'].unique())\n",
    "print len(code_map['leaid'].unique())\n",
    "\n",
    "code_map = code_map[np.isfinite(code_map['leaid'])]\n",
    "print code_map.shape"
   ]
  },
  {
   "cell_type": "code",
   "execution_count": 301,
   "metadata": {
    "collapsed": false
   },
   "outputs": [
    {
     "name": "stdout",
     "output_type": "stream",
     "text": [
      "                       DISTRICT_NAME    leaid\n",
      "413  CRAWFORD COUNTY SCHOOL DISTRICT  2910410\n",
      "525  CRAWFORD COUNTY SCHOOL DISTRICT  2905640\n",
      "     DISTRICT_NAME    leaid\n",
      "7987     MIAMI R-I  2920840\n",
      "8067     MIAMI R-I  2920820\n"
     ]
    }
   ],
   "source": [
    "# map\n",
    "print code_map[ code_map['DISTRICT_NAME']=='CRAWFORD COUNTY SCHOOL DISTRICT'  ]\n",
    "\n",
    "print code_map[ code_map['DISTRICT_NAME']=='MIAMI R-I'  ]"
   ]
  },
  {
   "cell_type": "code",
   "execution_count": 302,
   "metadata": {
    "collapsed": false
   },
   "outputs": [
    {
     "name": "stdout",
     "output_type": "stream",
     "text": [
      "(1162, 2)\n"
     ]
    }
   ],
   "source": [
    "# map\n",
    "code_map = code_map[ code_map['DISTRICT_NAME'] != 'CRAWFORD COUNTY SCHOOL DISTRICT' ]\n",
    "code_map = code_map[ code_map['DISTRICT_NAME'] != 'MIAMI R-I' ]\n",
    "\n",
    "print code_map.shape"
   ]
  },
  {
   "cell_type": "code",
   "execution_count": 539,
   "metadata": {
    "collapsed": false
   },
   "outputs": [
    {
     "data": {
      "text/plain": [
       "238     DENT-PHELPS SCH DIST R 3\n",
       "887     DENT-PHELPS SCH DIST R 3\n",
       "1503    DENT-PHELPS SCH DIST R 3\n",
       "1691    DENT-PHELPS SCH DIST R 3\n",
       "2483    DENT-PHELPS SCH DIST R 3\n",
       "2868    DENT-PHELPS SCH DIST R 3\n",
       "3097    DENT-PHELPS SCH DIST R 3\n",
       "4010    DENT-PHELPS SCH DIST R 3\n",
       "4324    DENT-PHELPS SCH DIST R 3\n",
       "6003    DENT-PHELPS SCH DIST R 3\n",
       "6358    DENT-PHELPS SCH DIST R 3\n",
       "7317    DENT-PHELPS SCH DIST R 3\n",
       "7614    DENT-PHELPS SCH DIST R 3\n",
       "8280           DENT-PHELPS R-III\n",
       "8862           DENT-PHELPS R-III\n",
       "9226           DENT-PHELPS R-III\n",
       "9632           DENT-PHELPS R-III\n",
       "Name: DISTRICT_NAME, dtype: object"
      ]
     },
     "execution_count": 539,
     "metadata": {},
     "output_type": "execute_result"
    }
   ],
   "source": [
    "ccd[ ccd['leaid'] == 2910710 ]['DISTRICT_NAME']"
   ]
  },
  {
   "cell_type": "code",
   "execution_count": 303,
   "metadata": {
    "collapsed": false
   },
   "outputs": [
    {
     "name": "stdout",
     "output_type": "stream",
     "text": [
      "(1164, 2)\n"
     ]
    }
   ],
   "source": [
    "# map\n",
    "s2 = pd.Series( ['CRAWFORD COUNTY SCHOOL DISTRICT' , 2910410 ] , index=['DISTRICT_NAME', 'leaid'])\n",
    "\n",
    "code_map = code_map.append(s2, ignore_index=True)\n",
    "\n",
    "\n",
    "s2 = pd.Series( ['MIAMI R-I' , 2920840 ] , index=['DISTRICT_NAME', 'leaid'])\n",
    "\n",
    "code_map = code_map.append(s2, ignore_index=True)\n",
    "\n",
    "# code_map= code_map.append( ['CRAWFORD COUNTY SCHOOL DISTRICT' , 2910410 ] ,ignore_index=True )\n",
    "# code_map = code_map.append( ['MIAMI R-I' , 2920840 ] ,ignore_index=True) \n",
    "print code_map.shape"
   ]
  },
  {
   "cell_type": "code",
   "execution_count": 355,
   "metadata": {
    "collapsed": false
   },
   "outputs": [
    {
     "name": "stdout",
     "output_type": "stream",
     "text": [
      "1164\n",
      "585\n"
     ]
    }
   ],
   "source": [
    "# map\n",
    "print len(code_map['DISTRICT_NAME'].unique())\n",
    "print len(code_map['leaid'].unique())"
   ]
  },
  {
   "cell_type": "code",
   "execution_count": 245,
   "metadata": {
    "collapsed": false
   },
   "outputs": [
    {
     "name": "stdout",
     "output_type": "stream",
     "text": [
      "+++ ACADEMIE LAFAYETTE\n",
      "CRAWFORD COUNTY SCHOOL DISTRICT\n",
      "MIAMI R-I\n"
     ]
    },
    {
     "data": {
      "text/plain": [
       "1166"
      ]
     },
     "execution_count": 245,
     "metadata": {},
     "output_type": "execute_result"
    }
   ],
   "source": [
    "# map\n",
    "pretuple= tmplist[0]\n",
    "print '+++',pretuple\n",
    "cnt=len(tmplist)\n",
    "for i in range(1,cnt):\n",
    "    if pretuple == tmplist[i]:\n",
    "        print pretuple\n",
    "#         , tmplist[i-1][1], tmplist[i][1] \n",
    "    pretuple= tmplist[i]\n",
    "    \n",
    "len(tmplist)\n"
   ]
  },
  {
   "cell_type": "code",
   "execution_count": 307,
   "metadata": {
    "collapsed": false
   },
   "outputs": [
    {
     "name": "stdout",
     "output_type": "stream",
     "text": [
      "(13596, 31)\n",
      "(16516, 55)\n",
      "(16650, 80)\n",
      "(16918, 99)\n",
      "(17454, 108)\n",
      "(135166, 126)\n",
      "(135934, 131)\n",
      "(138846, 135)\n",
      "(142942, 139)\n",
      "[ 1991.  1992.  1993.  1994.  1995.  1996.  1997.  1998.  1999.  2000.\n",
      "  2001.  2002.  2003.  2004.  2005.  2006.  2007.  2008.  2009.  2010.\n",
      "  2011.  2012.  2013.  2014.  2015.    nan]\n"
     ]
    }
   ],
   "source": [
    "# hh+features merge\n",
    "\n",
    "cnt= len(dtalist)\n",
    "\n",
    "cur_merged=dtalist[2]\n",
    "for i in range(3,cnt):\n",
    "#   print dtalist[i].shape\n",
    "    cur_merged =  pd.merge( cur_merged, dtalist[i], on=['DISTRICT_NAME','YEAR'],how='left')\n",
    "    print cur_merged.shape\n",
    "\n",
    "#  +hh\n",
    "cur_merged =  pd.merge( cur_merged, dtalist[0], on=['DISTRICT_NAME','YEAR'],how='left')\n",
    "print cur_merged['YEAR'].unique()"
   ]
  },
  {
   "cell_type": "code",
   "execution_count": 310,
   "metadata": {
    "collapsed": false
   },
   "outputs": [
    {
     "name": "stdout",
     "output_type": "stream",
     "text": [
      "['YEAR', 'DISTRICT_NAME', 'ENROLLMENT_GRADES_K_12_x', 'LUNCH_COUNT_FREE_REDUCED', 'LUNCH_COUNT_FREE_REDUCED_PCT', 'ENROLLMENT_ASIAN', 'ENROLLMENT_ASIAN_PCT', 'ENROLLMENT_BLACK', 'ENROLLMENT_BLACK_PCT', 'ENROLLMENT_HISPANIC', 'ENROLLMENT_HISPANIC_PCT', 'ENROLLMENT_INDIAN', 'ENROLLMENT_INDIAN_PCT', 'ENROLLMENT_PACIFIC_ISLANDER', 'ENROLLMENT_PACIFIC_ISLANDER_PCT', 'ENROLLMENT_MULTIRACIAL', 'ENROLLMENT_MULTIRACIAL_PCT', 'ENROLLMENT_WHITE', 'ENROLLMENT_WHITE_PCT', 'TEACHER_FTE_x', 'EDUCATOR_REG_CERT_TOTAL', 'EDUCATOR_REG_CERT_PCT', 'EDUCATOR_SPEC_CERT_TOTAL', 'EDUCATOR_SPEC_CERT_PCT', 'EDUCATOR_NO_CERT_TOTAL', 'EDUCATOR_NO_CERT_PCT', 'HIGHLY_QUALIFIED_TOTAL_COURSES', 'HIGHLY_QUALIFIED_CRS_QUALIFIED', 'HIGHLY_QUALIFIED_COURSES_PCT', 'ENROLLMENT_GRADES_K_12_y', 'DSCPLN_INCIDENTS', 'DSCPLN_INCIDENT_RATE', 'DSCPLN_ALCOHOL', 'DSCPLN_ALCOHOL_RATE', 'DSCPLN_DRUG', 'DSCPLN_DRUG_RATE', 'DSCPLN_OTHER', 'DSCPLN_OTHER_RATE', 'DSCPLN_TOBACCO', 'DSCPLN_TOBACCO_RATE', 'DSCPLN_VIOLENCE', 'DSCPLN_VIOLENCE_RATE', 'DSCPLN_WEAPON', 'DSCPLN_WEAPON_RATE', 'DSCPLN_REMOVAL_IN_SCHL_SUSP', 'DSCPLN_IN_SCHL_SUSPENSE_RATE', 'DSCPLN_REMOVAL_OUT_SCHL_SUSP', 'DSCPLN_OUT_SCHL_SUSPENSE_RATE', 'DSCPLN_REMOVAL_EXPULSION', 'DSCPLN_EXPULSION_RATE', 'DSCPLN_MORE_10_DAYS', 'DSCPLN_MORE_10_DAYS_RATE', 'DROPOUT_9_12_ASIAN', 'DROPOUT_CALC_ENROLL_ASIAN', 'DROPOUT_9_12_ASIAN_RATE', 'DROPOUT_9_12_BLACK', 'DROPOUT_CALC_ENROLL_BLACK', 'DROPOUT_9_12_BLACK_RATE', 'DROPOUT_9_12_HISPANIC', 'DROPOUT_CALC_ENROLL_HISPANIC', 'DROPOUT_9_12_HISPANIC_RATE', 'DROPOUT_9_12_INDIAN', 'DROPOUT_CALC_ENROLL_INDIAN', 'DROPOUT_9_12_INDIAN_RATE', 'DROPOUT_9_12_PACIFIC_ISLANDER', 'DROPOUT_CALC_ENROLL_PACIFIC_ISLA', 'DROPOUT_9_12_PACIFIC_ISLANDER_RA', 'DROPOUT_9_12_MULTIRACIAL', 'DROPOUT_CALC_ENROLL_MULTIRACIAL', 'DROPOUT_9_12_MULTIRACIAL_RATE', 'DROPOUT_9_12_WHITE', 'DROPOUT_CALC_ENROLL_WHITE', 'DROPOUT_9_12_WHITE_RATE', 'DROPOUT_9_12_TOTAL', 'DROPOUT_CALC_ENROLL', 'DROPOUT_9_12_TOTAL_RATE', 'ENROLLMENT_GRADES_PK', 'ENROLLMENT_GRADES_K', 'ENROLLMENT_GRADES_01', 'ENROLLMENT_GRADES_02', 'ENROLLMENT_GRADES_03', 'ENROLLMENT_GRADES_04', 'ENROLLMENT_GRADES_05', 'ENROLLMENT_GRADES_06', 'ENROLLMENT_GRADES_07', 'ENROLLMENT_GRADES_08', 'ENROLLMENT_GRADES_09', 'ENROLLMENT_GRADES_10', 'ENROLLMENT_GRADES_11', 'ENROLLMENT_GRADES_12', 'ENROLLMENT_GRADES_K_8', 'ENROLLMENT_GRADES_9_12', 'ENROLLMENT_GRADES_K_12', 'ENROLLMENT_GRADE_PK_12', 'ADMINISTRATOR_FTE', 'ADMINISTRATOR_SALARY_TOTAL', 'ADMINISTRATOR_SALARY_AVERAGE', 'TEACHER_FTE_y', 'TEACHER_SALARY_AVG', 'TEACHER_SALARY_AVG_REG_TERM', 'TEACHER_AVERAGE_YEARS_EXP', 'TEACHER_MAST_DEGREE_PERCENT', 'GRADUATES_PREVIOUS_YEAR', 'GRADUATE_FOLLOWUP_COLLEGE_PCT', 'GRADUATE_FOLLOWUP_COLL_4YR_AVG', 'GRADUATE_FOLLOWUP_4YR', 'GRADUATE_FOLLOWUP_4YR_PCT', 'GRADUATE_FOLLOWUP_2YR', 'GRADUATE_FOLLOWUP_2YR_PCT', 'GRADUATE_FOLLOWUP_EMP', 'GRADUATE_FOLLOWUP_EMP_PCT', 'GRADUATE_FOLLOWUP_MIL', 'GRADUATE_FOLLOWUP_MIL_PCT', 'GRADUATE_FOLLOWUP_NC', 'GRADUATE_FOLLOWUP_NC_PCT', 'GRADUATE_FOLLOWUP_OTH', 'GRADUATE_FOLLOWUP_OTH_PCT', 'GRADUATE_FOLLOWUP_UNK', 'GRADUATE_FOLLOWUP_UNK_PCT', 'ELL_LEP_STUDENTS_ENROLLED_K_12', 'ELL_LEP_STUDENTS_ENROLLED_K_12_P', 'ELL_LEP_STUDENTS_ENROLLED_PK', 'ELL_LEP_STUDENTS_ENROLLED_PK_PCT', 'STUDENTS_PER_ADMIN_RATIO', 'STUDENTS_PER_CLASSRM_TCH_RATIO', 'STUDENTS_PER_TEACHER_RATIO', 'ATTENDANCE_RATE_HRS_ABSENT', 'ATTENDANCE_RATE_HRS_ABSENT_K_8', 'ATTENDANCE_RATE_HRS_ABSENT_912', 'HoldHarmless']\n"
     ]
    }
   ],
   "source": [
    "cur_merged.drop('COUNTY_DISTRICT_CODE', axis=1, inplace=True)\n",
    "print list(cur_merged.columns)"
   ]
  },
  {
   "cell_type": "code",
   "execution_count": 312,
   "metadata": {
    "collapsed": false
   },
   "outputs": [
    {
     "name": "stdout",
     "output_type": "stream",
     "text": [
      "(502642, 131)\n",
      "[ 1991.  1992.  1993.  1994.  1995.  1996.  1997.  1998.  1999.  2000.\n",
      "  2001.  2002.  2003.  2004.  2005.  2006.  2007.  2008.  2009.  2010.\n",
      "  2011.  2012.  2013.  2014.  2015.    nan]\n"
     ]
    }
   ],
   "source": [
    "# hh + features + levid_code merge\n",
    "\n",
    "tmp_cur_merged =  pd.merge( cur_merged, code_map, on=['DISTRICT_NAME'], how= 'left')\n",
    "print tmp_cur_merged.shape\n",
    "print tmp_cur_merged['YEAR'].unique()"
   ]
  },
  {
   "cell_type": "code",
   "execution_count": 371,
   "metadata": {
    "collapsed": false
   },
   "outputs": [
    {
     "name": "stdout",
     "output_type": "stream",
     "text": [
      "(502642, 93)\n"
     ]
    }
   ],
   "source": [
    "# hh + features + levid_code merge\n",
    "print tmp_cur_merged.shape"
   ]
  },
  {
   "cell_type": "code",
   "execution_count": 362,
   "metadata": {
    "collapsed": false
   },
   "outputs": [
    {
     "name": "stdout",
     "output_type": "stream",
     "text": [
      "182\n"
     ]
    }
   ],
   "source": [
    "# dropout: hh + features \n",
    "\n",
    "var_todrop=[\n",
    "    'DSCPLN_IN_SCHL_SUSPENSE_RATE',\n",
    "'DSCPLN_REMOVAL_OUT_SCHL_SUSP',\n",
    "'DSCPLN_OUT_SCHL_SUSPENSE_RATE',\n",
    "'DSCPLN_REMOVAL_EXPULSION',\n",
    "'DSCPLN_EXPULSION_RATE',\n",
    "'DSCPLN_MORE_10_DAYS',\n",
    "'DSCPLN_MORE_10_DAYS_RATE',\n",
    "'DROPOUT_9_12_PACIFIC_ISLANDER',\n",
    "'DROPOUT_CALC_ENROLL_MULTIRACIAL',\n",
    "'DROPOUT_9_12_MULTIRACIAL_RATE',\n",
    "'ADMINISTRATOR_FTE',\n",
    "'ADMINISTRATOR_SALARY_TOTAL',\n",
    "'ADMINISTRATOR_SALARY_AVERAGE',\n",
    "'TEACHER_SALARY_AVG',\n",
    "'TEACHER_SALARY_AVG_REG_TERM',\n",
    "'ENROLLMENT_PACIFIC_ISLANDER',\n",
    "'ENROLLMENT_PACIFIC_ISLANDER_PCT',\n",
    "'ENROLLMENT_MULTIRACIAL',\n",
    "'ENROLLMENT_MULTIRACIAL_PCT',\n",
    "'EDUCATOR_NO_CERT_TOTAL',\n",
    "'EDUCATOR_NO_CERT_PCT',\n",
    "'GRADUATE_FOLLOWUP_COLLEGE_PCT',\n",
    "'GRADUATE_FOLLOWUP_COLL_4YR_AVG',\n",
    "'GRADUATE_FOLLOWUP_4YR',\n",
    "'GRADUATE_FOLLOWUP_4YR_PCT',\n",
    "'GRADUATE_FOLLOWUP_2YR',\n",
    "'GRADUATE_FOLLOWUP_2YR_PCT',\n",
    "'GRADUATE_FOLLOWUP_EMP',\n",
    "'GRADUATE_FOLLOWUP_EMP_PCT',\n",
    "'GRADUATE_FOLLOWUP_MIL',\n",
    "'GRADUATE_FOLLOWUP_MIL_PCT',\n",
    "'GRADUATE_FOLLOWUP_NC',\n",
    "'GRADUATE_FOLLOWUP_NC_PCT',\n",
    "'GRADUATE_FOLLOWUP_OTH',\n",
    "'GRADUATE_FOLLOWUP_OTH_PCT',\n",
    "'GRADUATE_FOLLOWUP_UNK',\n",
    "'GRADUATE_FOLLOWUP_UNK_PCT',\n",
    "'STUDENTS_PER_ADMIN_RATIO',\n",
    "'fipst',\n",
    "'fl_v33',\n",
    " 'fl_membersch',\n",
    " 'fl_c14',\n",
    " 'fl_c15',\n",
    " 'fl_c16',\n",
    " 'fl_c17',\n",
    " 'fl_c19',\n",
    " 'fl_b11',\n",
    " 'fl_c20',\n",
    " 'fl_c25',\n",
    " 'fl_c36',\n",
    " 'fl_b10',\n",
    " 'fl_b12',\n",
    " 'fl_b13',\n",
    " 'fl_c04',\n",
    " 'fl_c05',\n",
    " 'fl_c06',\n",
    " 'fl_c07',\n",
    " 'fl_c08',\n",
    " 'fl_c09',\n",
    " 'fl_c10',\n",
    " 'fl_c11',\n",
    " 'fl_c12',\n",
    " 'fl_c13',\n",
    " 'fl_c35',\n",
    " 'fl_c38',\n",
    " 'fl_c39',\n",
    " 'fl_t02',\n",
    " 'fl_t06',\n",
    " 'fl_t09',\n",
    " 'fl_t15',\n",
    " 'fl_t40',\n",
    " 'fl_t99',\n",
    " 'fl_d11',\n",
    " 'fl_d23',\n",
    " 'fl_a07',\n",
    " 'fl_a08',\n",
    " 'fl_a09',\n",
    " 'fl_a11',\n",
    " 'fl_a13',\n",
    " 'fl_a15',\n",
    " 'fl_a20',\n",
    " 'fl_a40',\n",
    " 'fl_u11',\n",
    " 'fl_u22',\n",
    " 'fl_u30',\n",
    " 'fl_u50',\n",
    " 'fl_u97',\n",
    " 'fl_c24',\n",
    " 'fl_e13',\n",
    " 'fl_v91',\n",
    " 'fl_v92',\n",
    " 'fl_e17',\n",
    " 'fl_e07',\n",
    " 'fl_e08',\n",
    " 'fl_e09',\n",
    " 'fl_v40',\n",
    " 'fl_v45',\n",
    " 'fl_v90',\n",
    " 'fl_v85',\n",
    " 'fl_e11',\n",
    " 'fl_v60',\n",
    " 'fl_v65',\n",
    " 'fl_v70',\n",
    " 'fl_v75',\n",
    " 'fl_v80',\n",
    " 'fl_f12',\n",
    " 'fl_g15',\n",
    " 'fl_k09',\n",
    " 'fl_k10',\n",
    " 'fl_k11',\n",
    " 'fl_l12',\n",
    " 'fl_m12',\n",
    " 'fl_q11',\n",
    " 'fl_i86',\n",
    " 'fl_z32',\n",
    " 'fl_z33',\n",
    " 'fl_z35',\n",
    " 'fl_z36',\n",
    " 'fl_z37',\n",
    " 'fl_z38',\n",
    " 'fl_v11',\n",
    " 'fl_v13',\n",
    " 'fl_v15',\n",
    " 'fl_v17',\n",
    " 'fl_v21',\n",
    " 'fl_v23',\n",
    " 'fl_v37',\n",
    " 'fl_v29',\n",
    " 'fl_z34',\n",
    " 'fl_v10',\n",
    " 'fl_v12',\n",
    " 'fl_v14',\n",
    " 'fl_v16',\n",
    " 'fl_v18',\n",
    " 'fl_v22',\n",
    " 'fl_v24',\n",
    " 'fl_v38',\n",
    " 'fl_v30',\n",
    " 'fl_v32',\n",
    " 'fl_v93',\n",
    " 'fl_19h',\n",
    " 'fl_21f',\n",
    " 'fl_31f',\n",
    " 'fl_41f',\n",
    " 'fl_61v',\n",
    " 'fl_66v',\n",
    " 'fl_w01',\n",
    " 'fl_w31',\n",
    " 'fl_w61',\n",
    " 'fl_hr1',\n",
    " 'fl_he1',\n",
    " 'fl_he2',\n",
    " 'fl_c18',\n",
    "'v11',\n",
    " 'v13',\n",
    " 'v15',\n",
    " 'v17',\n",
    " 'v21',\n",
    " 'v23',\n",
    " 'v37',\n",
    " 'v29',\n",
    " 'z34',\n",
    " 'v10',\n",
    " 'v12',\n",
    " 'v14',\n",
    " 'v16',\n",
    " 'v18',\n",
    " 'v22',\n",
    " 'v24',\n",
    " 'v38',\n",
    " 'v30',\n",
    " 'v32',\n",
    "'v93',\n",
    " 'v35',\n",
    " 'v50',\n",
    " 'v55',\n",
    " 'v19',\n",
    " 'v25',\n",
    " 'v27',\n",
    " 'v20',\n",
    " 'v26',\n",
    " 'v28',\n",
    "]\n",
    "print len(var_todrop)"
   ]
  },
  {
   "cell_type": "code",
   "execution_count": 364,
   "metadata": {
    "collapsed": true
   },
   "outputs": [],
   "source": [
    "# hh : var drop\n",
    "for i in var_todrop:\n",
    "    if i in tmp_cur_merged.columns:\n",
    "        tmp_cur_merged.drop(i, axis=1, inplace=True)"
   ]
  },
  {
   "cell_type": "code",
   "execution_count": 369,
   "metadata": {
    "collapsed": false
   },
   "outputs": [
    {
     "name": "stdout",
     "output_type": "stream",
     "text": [
      "(502642, 93)\n"
     ]
    }
   ],
   "source": [
    "# hh : var drop\n",
    "print tmp_cur_merged.shape"
   ]
  },
  {
   "cell_type": "code",
   "execution_count": 367,
   "metadata": {
    "collapsed": true
   },
   "outputs": [],
   "source": [
    "# hh + features + levid_code merge\n",
    "tmp_cur_merged.to_csv('10features_hh.csv')"
   ]
  },
  {
   "cell_type": "code",
   "execution_count": 374,
   "metadata": {
    "collapsed": false
   },
   "outputs": [
    {
     "data": {
      "text/plain": [
       "666"
      ]
     },
     "execution_count": 374,
     "metadata": {},
     "output_type": "execute_result"
    }
   ],
   "source": [
    "len(tmp_cur_merged['DISTRICT_NAME'].unique())"
   ]
  },
  {
   "cell_type": "code",
   "execution_count": 328,
   "metadata": {
    "collapsed": false
   },
   "outputs": [
    {
     "name": "stdout",
     "output_type": "stream",
     "text": [
      "(506226, 401)\n",
      "[ 1991.  1992.  1993.  1994.  1995.  1996.  1997.  1998.  1999.  2000.\n",
      "  2001.  2002.  2003.  2004.  2005.  2006.  2007.  2008.  2009.  2010.\n",
      "  2011.  2012.  2013.  2014.  2015.    nan]\n"
     ]
    }
   ],
   "source": [
    "# ccd + hh + features\n",
    "ccd_cur_merged =  pd.merge( dtalist[1],tmp_cur_merged, on=['DISTRICT_NAME','YEAR'], how='left')\n",
    "print ccd_cur_merged.shape\n",
    "print ccd_cur_merged['YEAR'].unique()"
   ]
  },
  {
   "cell_type": "code",
   "execution_count": 338,
   "metadata": {
    "collapsed": false
   },
   "outputs": [],
   "source": [
    "# ccd + hh + features + levid_code\n",
    "leaid_col= (ccd_cur_merged['leaid_x'])\n",
    "ccd_cur_merged.drop('leaid_x', axis=1, inplace=True)\n",
    "tmp_ccd_cur_merged = ccd_cur_merged.insert(2, 'leaid', leaid_col)"
   ]
  },
  {
   "cell_type": "code",
   "execution_count": 534,
   "metadata": {
    "collapsed": false
   },
   "outputs": [
    {
     "data": {
      "text/plain": [
       "Index([u'YEAR', u'COUNTY_DISTRICT_CODE', u'DISTRICT_NAME', u'HoldHarmless'], dtype='object')"
      ]
     },
     "execution_count": 534,
     "metadata": {},
     "output_type": "execute_result"
    }
   ],
   "source": [
    "hh.columns"
   ]
  },
  {
   "cell_type": "code",
   "execution_count": 537,
   "metadata": {
    "collapsed": false
   },
   "outputs": [
    {
     "name": "stdout",
     "output_type": "stream",
     "text": [
      "1164\n",
      "586\n",
      "666\n",
      "601\n"
     ]
    }
   ],
   "source": [
    "# certi=pd.read_csv('./tmpdta/Certification02_15.csv')\n",
    "# demo= pd.read_csv('./tmpdta/demographic91_15.csv')\n",
    "# disci= pd.read_csv('./tmpdta/discipline2001_2015.csv')\n",
    "# dropout= pd.read_csv('./tmpdta/dropout1991_2015.csv')\n",
    "# enro= pd.read_csv('./tmpdta/enrollment1991_2015.csv')\n",
    "# fac= pd.read_csv('./tmpdta/faculty91_15.csv')\n",
    "# gradu= pd.read_csv('./tmpdta/graduateanalysis91_15.csv')\n",
    "# lep= pd.read_csv('./tmpdta/LEPELL.csv')\n",
    "# ratio= pd.read_csv('./tmpdta/ratio91_15.csv')\n",
    "# att= pd.read_csv('./tmpdta/attendance02_13.csv')\n",
    "\n",
    "print len(ccd['DISTRICT_NAME'].unique())\n",
    "print len(ccd['leaid'].unique())\n",
    "\n",
    "print len(demo['DISTRICT_NAME'].unique())\n",
    "print len(demo['COUNTY_DISTRICT_CODE'].unique())"
   ]
  },
  {
   "cell_type": "code",
   "execution_count": 368,
   "metadata": {
    "collapsed": false
   },
   "outputs": [
    {
     "name": "stdout",
     "output_type": "stream",
     "text": [
      "(506226, 218)\n"
     ]
    }
   ],
   "source": [
    "# ccd : var drop\n",
    "for i in var_todrop:\n",
    "    if i in ccd_cur_merged.columns:\n",
    "        ccd_cur_merged.drop(i, axis=1, inplace=True)\n",
    "        \n",
    "print ccd_cur_merged.shape"
   ]
  },
  {
   "cell_type": "code",
   "execution_count": 442,
   "metadata": {
    "collapsed": false
   },
   "outputs": [
    {
     "name": "stdout",
     "output_type": "stream",
     "text": [
      "13459\n"
     ]
    }
   ],
   "source": [
    "# group and aggregate\n",
    "enro_gp = enro.groupby(['DISTRICT_NAME', 'YEAR' ])\n",
    "print len(enro_gp)"
   ]
  },
  {
   "cell_type": "code",
   "execution_count": 450,
   "metadata": {
    "collapsed": false
   },
   "outputs": [
    {
     "data": {
      "text/plain": [
       "(' LUTIE R-VI', 1991)"
      ]
     },
     "execution_count": 450,
     "metadata": {},
     "output_type": "execute_result"
    }
   ],
   "source": [
    "# group and aggregate\n",
    "len(enro_gp)\n",
    "agg_enro = enro_gp.aggregate(np.sum)\n",
    "agg_enro.columns\n",
    "agg_enro.index"
   ]
  },
  {
   "cell_type": "code",
   "execution_count": 488,
   "metadata": {
    "collapsed": false
   },
   "outputs": [
    {
     "name": "stdout",
     "output_type": "stream",
     "text": [
      "0     LUTIE R-VI\n",
      "1     LUTIE R-VI\n",
      "dtype: object (13459,)\n",
      "0    1991\n",
      "1    1992\n",
      "dtype: object (13459,)\n"
     ]
    }
   ],
   "source": [
    "tmpyear= list(agg_enro.index)\n",
    "tmplist=[]\n",
    "tmplist.append([] )\n",
    "\n",
    "for i in range(0, len(tmpyear)):\n",
    "    tmplist[0].append( str(tmpyear[i][0]) )\n",
    "\n",
    "tmplist.append([] ) \n",
    "for i in range(0, len(tmpyear)):\n",
    "    tmplist[1].append( tmpyear[i][1] )\n",
    "\n",
    "# print tmplist[0][0:2], tmplist[1][0:2]\n",
    "# print tmpyear[0]\n",
    "\n",
    "district_insert= pd.Series( (str(i) for i in tmplist[0]) )\n",
    "\n",
    "year_insert= pd.Series( (str(i) for i in tmplist[1]) )\n",
    "\n",
    "print district_insert[0:2], district_insert.shape\n",
    "print year_insert[0:2],year_insert.shape"
   ]
  },
  {
   "cell_type": "code",
   "execution_count": 494,
   "metadata": {
    "collapsed": false
   },
   "outputs": [
    {
     "name": "stdout",
     "output_type": "stream",
     "text": [
      "(13459, 21)\n",
      "(13459, 3)\n",
      "Index([u'DISTRICT_NAME', u'YEAR', u'SUM_ENROLLMENT_GRADE_PK_12'], dtype='object')\n",
      "[1991 1992 2007 2008 2009 2010 2011 2012 2013 2014 2015 1993 1994 1995 1996\n",
      " 1997 1998 1999 2000 2001 2002 2003 2004 2005 2006]\n"
     ]
    }
   ],
   "source": [
    "# print enro.shape\n",
    "\n",
    "# agg_enro.drop('DISTRICT_NAME', axis=1, inplace=True)\n",
    "print agg_enro.shape\n",
    "agg_enro = agg_enro.reset_index()\n",
    "# agg_enro.insert(0,'DISTRICT_NAME', district_insert)\n",
    "# agg_enro[0:3]\n",
    "\n",
    "enro_tomerge= agg_enro[ [ 'DISTRICT_NAME','YEAR', 'ENROLLMENT_GRADE_PK_12']  ] \n",
    "\n",
    "# print enro_tomerge[0:3]\n",
    "# # print \n",
    "# # enro_col.insert(idx, col_name, value)\n",
    "\n",
    "# # enro_col.index\n",
    "\n",
    "enro_tomerge = enro_tomerge.rename( columns= { 'ENROLLMENT_GRADE_PK_12' : 'SUM_ENROLLMENT_GRADE_PK_12'}) \n",
    "enro_tomerge.to_csv( 'enrol_sum_toMerge.csv', index=False )\n",
    "                                   \n",
    "print enro_tomerge.shape\n",
    "print enro_tomerge.columns\n",
    "print enro_tomerge['YEAR'].unique()"
   ]
  },
  {
   "cell_type": "code",
   "execution_count": 527,
   "metadata": {
    "collapsed": false
   },
   "outputs": [],
   "source": [
    "# certi=pd.read_csv('./tmpdta/Certification02_15.csv')\n",
    "# demo= pd.read_csv('./tmpdta/demographic91_15.csv')\n",
    "# disci= pd.read_csv('./tmpdta/discipline2001_2015.csv')\n",
    "# dropout= pd.read_csv('./tmpdta/dropout1991_2015.csv')\n",
    "# enro= pd.read_csv('./tmpdta/enrollment1991_2015.csv')\n",
    "# fac= pd.read_csv('./tmpdta/faculty91_15.csv')\n",
    "# gradu= pd.read_csv('./tmpdta/graduateanalysis91_15.csv')\n",
    "# lep= pd.read_csv('./tmpdta/LEPELL.csv')\n",
    "# ratio= pd.read_csv('./tmpdta/ratio91_15.csv')\n",
    "# att= pd.read_csv('./tmpdta/attendance02_13.csv')\n",
    "\n",
    "for i in ccd[   ccd['YEAR']<=2006   ]['DISTRICT_NAME']:\n",
    "    if i in att['DISTRICT_NAME']:\n",
    "        print i"
   ]
  },
  {
   "cell_type": "code",
   "execution_count": 496,
   "metadata": {
    "collapsed": false
   },
   "outputs": [
    {
     "name": "stdout",
     "output_type": "stream",
     "text": [
      "(10173, 272)\n",
      "(2280, 273)\n",
      "[1995 1996 1997 1998 1999 2000 2001 2002 2003 2004 2005 2006 2007 2008 2009\n",
      " 2010 2011 2012]\n",
      "[2007 2008 2009 2010 2011 2012]\n"
     ]
    }
   ],
   "source": [
    "# ccd and hh\n",
    "\n",
    "ccd_enrol_sum = pd.merge(ccd, enro_tomerge, on= ['DISTRICT_NAME','YEAR'] )\n",
    "print ccd.shape\n",
    "print ccd_enrol_sum.shape\n",
    "print ccd['YEAR'].unique()\n",
    "print ccd_enrol_sum['YEAR'].unique()"
   ]
  },
  {
   "cell_type": "code",
   "execution_count": 439,
   "metadata": {
    "collapsed": false
   },
   "outputs": [
    {
     "name": "stdout",
     "output_type": "stream",
     "text": [
      "[1995 1996 1997 1998 1999 2000 2001 2002 2003 2004 2005 2006 2007 2008 2009\n",
      " 2010 2011 2012]\n",
      "[1991 1992 1993 1994 1995 1996 1997 1998 1999 2000 2001 2002 2003 2004 2005\n",
      " 2006 2007 2008 2009 2010 2011 2012 2013 2014 2015]\n",
      "[2007 2008 2009 2010 2011 2012]\n",
      "[ 2015.    nan  2014.  2010.  2013.  2008.  2012.  2009.  2011.  2007.]\n"
     ]
    }
   ],
   "source": [
    "print ccd['YEAR'].unique()\n",
    "print enro['YEAR'].unique()\n",
    "print ccd_enrol_sum['YEAR'].unique()\n",
    "print hh['YEAR'].unique()"
   ]
  },
  {
   "cell_type": "code",
   "execution_count": 424,
   "metadata": {
    "collapsed": false
   },
   "outputs": [
    {
     "name": "stdout",
     "output_type": "stream",
     "text": [
      "(10173, 272)\n",
      "(2290, 273)\n",
      "[1995 1996 1997 1998 1999 2000 2001 2002 2003 2004 2005 2006 2007 2008 2009\n",
      " 2010 2011 2012]\n"
     ]
    }
   ],
   "source": [
    "print ccd.shape\n",
    "print ccd_enrol_sum.shape\n",
    "print ccd['YEAR'].unique()\n",
    "ccd_enrol_sum.to_csv('ccd_sumEnrol.csv')"
   ]
  },
  {
   "cell_type": "code",
   "execution_count": 427,
   "metadata": {
    "collapsed": false
   },
   "outputs": [],
   "source": [
    "tmp_ave=  ccd_enrol_sum['GeneralFormula'].divide( ccd_enrol_sum['SUM_ENROLLMENT_GRADE_PK_12'])\n",
    "\n"
   ]
  },
  {
   "cell_type": "code",
   "execution_count": 434,
   "metadata": {
    "collapsed": false
   },
   "outputs": [
    {
     "name": "stdout",
     "output_type": "stream",
     "text": [
      "(10173, 272)\n",
      "(2290, 274)\n",
      "[2007 2008 2009 2010 2011 2012]\n"
     ]
    },
    {
     "ename": "ValueError",
     "evalue": "cannot insert AVE_ENROLLMENT_GRADE_PK_12, already exists",
     "output_type": "error",
     "traceback": [
      "\u001b[1;31m---------------------------------------------------------------------------\u001b[0m",
      "\u001b[1;31mValueError\u001b[0m                                Traceback (most recent call last)",
      "\u001b[1;32m<ipython-input-434-4b5485d55d93>\u001b[0m in \u001b[0;36m<module>\u001b[1;34m()\u001b[0m\n\u001b[0;32m      2\u001b[0m \u001b[1;32mprint\u001b[0m \u001b[0mccd_enrol_sum\u001b[0m\u001b[1;33m.\u001b[0m\u001b[0mshape\u001b[0m\u001b[1;33m\u001b[0m\u001b[0m\n\u001b[0;32m      3\u001b[0m \u001b[1;32mprint\u001b[0m \u001b[0mccd_enrol_sum\u001b[0m\u001b[1;33m[\u001b[0m\u001b[1;34m'YEAR'\u001b[0m\u001b[1;33m]\u001b[0m\u001b[1;33m.\u001b[0m\u001b[0munique\u001b[0m\u001b[1;33m(\u001b[0m\u001b[1;33m)\u001b[0m\u001b[1;33m\u001b[0m\u001b[0m\n\u001b[1;32m----> 4\u001b[1;33m \u001b[0mccd_enrol_sum\u001b[0m\u001b[1;33m.\u001b[0m\u001b[0minsert\u001b[0m\u001b[1;33m(\u001b[0m\u001b[1;36m273\u001b[0m\u001b[1;33m,\u001b[0m \u001b[1;34m'AVE_ENROLLMENT_GRADE_PK_12'\u001b[0m\u001b[1;33m,\u001b[0m \u001b[0mtmp_ave\u001b[0m\u001b[1;33m)\u001b[0m\u001b[1;33m\u001b[0m\u001b[0m\n\u001b[0m\u001b[0;32m      5\u001b[0m \u001b[0mccd_enrol_sum\u001b[0m\u001b[1;33m.\u001b[0m\u001b[0mto_csv\u001b[0m\u001b[1;33m(\u001b[0m\u001b[1;34m'ccd_aveEnrol.csv'\u001b[0m\u001b[1;33m)\u001b[0m\u001b[1;33m\u001b[0m\u001b[0m\n",
      "\u001b[1;32m/home/tguo/.virtualenvs/tguovenv/local/lib/python2.7/site-packages/pandas/core/frame.pyc\u001b[0m in \u001b[0;36minsert\u001b[1;34m(self, loc, column, value, allow_duplicates)\u001b[0m\n\u001b[0;32m   2228\u001b[0m         \u001b[0mvalue\u001b[0m \u001b[1;33m=\u001b[0m \u001b[0mself\u001b[0m\u001b[1;33m.\u001b[0m\u001b[0m_sanitize_column\u001b[0m\u001b[1;33m(\u001b[0m\u001b[0mcolumn\u001b[0m\u001b[1;33m,\u001b[0m \u001b[0mvalue\u001b[0m\u001b[1;33m)\u001b[0m\u001b[1;33m\u001b[0m\u001b[0m\n\u001b[0;32m   2229\u001b[0m         self._data.insert(\n\u001b[1;32m-> 2230\u001b[1;33m             loc, column, value, allow_duplicates=allow_duplicates)\n\u001b[0m\u001b[0;32m   2231\u001b[0m \u001b[1;33m\u001b[0m\u001b[0m\n\u001b[0;32m   2232\u001b[0m     \u001b[1;32mdef\u001b[0m \u001b[0massign\u001b[0m\u001b[1;33m(\u001b[0m\u001b[0mself\u001b[0m\u001b[1;33m,\u001b[0m \u001b[1;33m**\u001b[0m\u001b[0mkwargs\u001b[0m\u001b[1;33m)\u001b[0m\u001b[1;33m:\u001b[0m\u001b[1;33m\u001b[0m\u001b[0m\n",
      "\u001b[1;32m/home/tguo/.virtualenvs/tguovenv/local/lib/python2.7/site-packages/pandas/core/internals.pyc\u001b[0m in \u001b[0;36minsert\u001b[1;34m(self, loc, item, value, allow_duplicates)\u001b[0m\n\u001b[0;32m   3073\u001b[0m         \u001b[1;32mif\u001b[0m \u001b[1;32mnot\u001b[0m \u001b[0mallow_duplicates\u001b[0m \u001b[1;32mand\u001b[0m \u001b[0mitem\u001b[0m \u001b[1;32min\u001b[0m \u001b[0mself\u001b[0m\u001b[1;33m.\u001b[0m\u001b[0mitems\u001b[0m\u001b[1;33m:\u001b[0m\u001b[1;33m\u001b[0m\u001b[0m\n\u001b[0;32m   3074\u001b[0m             \u001b[1;31m# Should this be a different kind of error??\u001b[0m\u001b[1;33m\u001b[0m\u001b[1;33m\u001b[0m\u001b[0m\n\u001b[1;32m-> 3075\u001b[1;33m             \u001b[1;32mraise\u001b[0m \u001b[0mValueError\u001b[0m\u001b[1;33m(\u001b[0m\u001b[1;34m'cannot insert %s, already exists'\u001b[0m \u001b[1;33m%\u001b[0m \u001b[0mitem\u001b[0m\u001b[1;33m)\u001b[0m\u001b[1;33m\u001b[0m\u001b[0m\n\u001b[0m\u001b[0;32m   3076\u001b[0m \u001b[1;33m\u001b[0m\u001b[0m\n\u001b[0;32m   3077\u001b[0m         \u001b[1;32mif\u001b[0m \u001b[1;32mnot\u001b[0m \u001b[0misinstance\u001b[0m\u001b[1;33m(\u001b[0m\u001b[0mloc\u001b[0m\u001b[1;33m,\u001b[0m \u001b[0mint\u001b[0m\u001b[1;33m)\u001b[0m\u001b[1;33m:\u001b[0m\u001b[1;33m\u001b[0m\u001b[0m\n",
      "\u001b[1;31mValueError\u001b[0m: cannot insert AVE_ENROLLMENT_GRADE_PK_12, already exists"
     ]
    }
   ],
   "source": [
    "print ccd.shape\n",
    "print ccd_enrol_sum.shape\n",
    "print ccd_enrol_sum['YEAR'].unique()\n",
    "ccd_enrol_sum.insert(273, 'AVE_ENROLLMENT_GRADE_PK_12', tmp_ave)\n",
    "ccd_enrol_sum.to_csv('ccd_aveEnrol.csv')"
   ]
  },
  {
   "cell_type": "code",
   "execution_count": 432,
   "metadata": {
    "collapsed": false
   },
   "outputs": [
    {
     "name": "stdout",
     "output_type": "stream",
     "text": [
      "(2290, 274)\n",
      "(4731, 4)\n",
      "(2294, 276)\n"
     ]
    }
   ],
   "source": [
    "print ccd_enrol_sum.shape\n",
    "print hh.shape\n",
    "ccd_aveEnrol_hh = pd.merge(ccd_enrol_sum, hh, on= ['DISTRICT_NAME', 'YEAR' ], how='left' )\n",
    "print ccd_aveEnrol_hh.shape"
   ]
  },
  {
   "cell_type": "code",
   "execution_count": 433,
   "metadata": {
    "collapsed": false
   },
   "outputs": [
    {
     "data": {
      "text/plain": [
       "array([2007, 2008, 2009, 2010, 2011, 2012])"
      ]
     },
     "execution_count": 433,
     "metadata": {},
     "output_type": "execute_result"
    }
   ],
   "source": [
    "ccd_aveEnrol_hh['YEAR'].unique()"
   ]
  },
  {
   "cell_type": "code",
   "execution_count": 519,
   "metadata": {
    "collapsed": false
   },
   "outputs": [
    {
     "name": "stdout",
     "output_type": "stream",
     "text": [
      "[1995 1996 1997 1998 1999 2000 2001 2002 2003 2004 2005 2006 2007 2008 2009\n",
      " 2010 2011 2012]\n",
      "(10177, 274)\n",
      "[1995 1996 1997 1998 1999 2000 2001 2002 2003 2004 2005 2006 2007 2008 2009\n",
      " 2010 2011 2012]\n",
      "['GeneralFormula', 'YEAR', 'leaid', 'censusid', 'fipst', 'fipsco', 'cmsa', 'DISTRICT_NAME', 'stname', 'stabbr', 'schlev', 'agchrt', 'ccdnf', 'cenfile', 'gslo', 'gshi', 'v33', 'totalrev', 'tfedrev', 'c14', 'c15', 'c16', 'c17', 'c18', 'c19', 'c20', 'c25', 'c36', 'b10', 'b11', 'b12', 'b13', 'TotalStateRevenue', 'c04', 'c05', 'c06', 'c07', 'c08', 'c09', 'c10', 'c11', 'c12', 'c13', 'c35', 'c38', 'c39', 'tlocrev', 't02', 't06', 't09', 't15', 't40', 't99', 'd11', 'd23', 'a07', 'a08', 'a09', 'a11', 'a13', 'a15', 'a20', 'u22', 'u97', 'c24', 'totalexp', 'tcurelsc', 'tcurinst', 'e13', 'v91', 'v92', 'tcurssvc', 'e17', 'e07', 'e08', 'e09', 'v40', 'v45', 'v90', 'v85', 'tcuroth', 'e11', 'v60', 'v65', 'tnonelse', 'v70', 'v75', 'v80', 'tcapout', 'f12', 'g15', 'k09', 'k10', 'k11', 'l12', 'm12', 'q11', 'i86', 'z32', 'z33', 'v11', 'v13', 'v15', 'v17', 'v21', 'v23', 'v37', 'v29', 'z34', 'v10', 'v12', 'v14', 'v16', 'v18', 'v22', 'v24', 'v38', 'v30', 'v32', '_19h', '_21f', '_31f', '_41f', '_61v', '_66v', 'w01', 'w31', 'w61', 'weight', 'conum', 'csa', 'cbsa', 'a40', 'u11', 'u30', 'u50', 'z35', 'z36', 'z37', 'z38', 'v93', 'v35', 'v50', 'v55', 'v19', 'v25', 'v27', 'v20', 'v26', 'v28', 'fl_c01', 'membersch', 'totalrevenue', 'totalfederalrevenue', 'staffImprovement', 'hr1', 'he1', 'he2', 'fl_v33', 'fl_membersch', 'fl_c14', 'fl_c15', 'fl_c16', 'fl_c17', 'fl_c19', 'fl_b11', 'fl_c20', 'fl_c25', 'fl_c36', 'fl_b10', 'fl_b12', 'fl_b13', 'fl_c04', 'fl_c05', 'fl_c06', 'fl_c07', 'fl_c08', 'fl_c09', 'fl_c10', 'fl_c11', 'fl_c12', 'fl_c13', 'fl_c35', 'fl_c38', 'fl_c39', 'fl_t02', 'fl_t06', 'fl_t09', 'fl_t15', 'fl_t40', 'fl_t99', 'fl_d11', 'fl_d23', 'fl_a07', 'fl_a08', 'fl_a09', 'fl_a11', 'fl_a13', 'fl_a15', 'fl_a20', 'fl_a40', 'fl_u11', 'fl_u22', 'fl_u30', 'fl_u50', 'fl_u97', 'fl_c24', 'fl_e13', 'fl_v91', 'fl_v92', 'fl_e17', 'fl_e07', 'fl_e08', 'fl_e09', 'fl_v40', 'fl_v45', 'fl_v90', 'fl_v85', 'fl_e11', 'fl_v60', 'fl_v65', 'fl_v70', 'fl_v75', 'fl_v80', 'fl_f12', 'fl_g15', 'fl_k09', 'fl_k10', 'fl_k11', 'fl_l12', 'fl_m12', 'fl_q11', 'fl_i86', 'fl_z32', 'fl_z33', 'fl_z35', 'fl_z36', 'fl_z37', 'fl_z38', 'fl_v11', 'fl_v13', 'fl_v15', 'fl_v17', 'fl_v21', 'fl_v23', 'fl_v37', 'fl_v29', 'fl_z34', 'fl_v10', 'fl_v12', 'fl_v14', 'fl_v16', 'fl_v18', 'fl_v22', 'fl_v24', 'fl_v38', 'fl_v30', 'fl_v32', 'fl_v93', 'fl_19h', 'fl_21f', 'fl_31f', 'fl_41f', 'fl_61v', 'fl_66v', 'fl_w01', 'fl_w31', 'fl_w61', 'fl_hr1', 'fl_he1', 'fl_he2', 'fl_c18', 'COUNTY_DISTRICT_CODE', 'HoldHarmless']\n"
     ]
    }
   ],
   "source": [
    "print ccd['YEAR'].unique()\n",
    "ccd_hh = pd.merge(ccd, hh, on= ['DISTRICT_NAME', 'YEAR'], how='left' )\n",
    "print ccd_hh.shape\n",
    "print ccd_hh['YEAR'].unique()\n",
    "print list(ccd_hh.columns)"
   ]
  },
  {
   "cell_type": "code",
   "execution_count": 526,
   "metadata": {
    "collapsed": false
   },
   "outputs": [
    {
     "name": "stdout",
     "output_type": "stream",
     "text": [
      "   GeneralFormula  YEAR    leaid      censusid  fipst  fipsco  cmsa  \\\n",
      "0         1210000  1995  2927660  2.651000e+13     29     197     0   \n",
      "1         2686000  1995  2908760  2.651000e+13     29     117     0   \n",
      "2          657000  1995  2929610  2.651000e+13     29     141     0   \n",
      "3          251000  1995  2927600  2.651000e+13     29     217     0   \n",
      "\n",
      "                     DISTRICT_NAME    stname stabbr      ...       fl_61v  \\\n",
      "0         SCHUYLER SCHOOL DIST R-1  Missouri     MO      ...          NaN   \n",
      "1         CHILLICOTHE SCH DIST R 2  Missouri     MO      ...          NaN   \n",
      "2   MORGAN COOUNTY SCHOOL DIST R 1  Missouri     MO      ...          NaN   \n",
      "3  NORTHEAST VERNON CO SCHOOL DIST  Missouri     MO      ...          NaN   \n",
      "\n",
      "  fl_66v  fl_w01  fl_w31 fl_w61 fl_hr1  fl_he1  fl_he2  fl_c18  HoldHarmless  \n",
      "0    NaN     NaN     NaN    NaN    NaN     NaN     NaN     NaN           NaN  \n",
      "1    NaN     NaN     NaN    NaN    NaN     NaN     NaN     NaN           NaN  \n",
      "2    NaN     NaN     NaN    NaN    NaN     NaN     NaN     NaN           NaN  \n",
      "3    NaN     NaN     NaN    NaN    NaN     NaN     NaN     NaN           NaN  \n",
      "\n",
      "[4 rows x 273 columns]\n"
     ]
    }
   ],
   "source": [
    "# ccd_hh.drop('COUNTY_DISTRICT_CODE', axis=1, inplace=True)\n",
    "print ccd_hh[0:4]"
   ]
  },
  {
   "cell_type": "code",
   "execution_count": 523,
   "metadata": {
    "collapsed": true
   },
   "outputs": [],
   "source": [
    "ccd_hh.to_csv('ccd_hh.csv')"
   ]
  }
 ],
 "metadata": {
  "kernelspec": {
   "display_name": "Python 2",
   "language": "python",
   "name": "python2"
  },
  "language_info": {
   "codemirror_mode": {
    "name": "ipython",
    "version": 2
   },
   "file_extension": ".py",
   "mimetype": "text/x-python",
   "name": "python",
   "nbconvert_exporter": "python",
   "pygments_lexer": "ipython2",
   "version": "2.7.8"
  }
 },
 "nbformat": 4,
 "nbformat_minor": 0
}
