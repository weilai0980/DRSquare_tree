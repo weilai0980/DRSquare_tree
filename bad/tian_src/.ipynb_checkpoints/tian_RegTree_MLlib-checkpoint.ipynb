{
 "cells": [
  {
   "cell_type": "code",
   "execution_count": 5,
   "metadata": {
    "collapsed": false
   },
   "outputs": [
    {
     "name": "stdout",
     "output_type": "stream",
     "text": [
      "\n"
     ]
    }
   ],
   "source": [
    "%matplotlib inline\n",
    "\n",
    "import os \n",
    "import sys \n",
    "import time\n",
    "import hashlib\n",
    "\n",
    "from datetime  import datetime \n",
    "\n",
    "import numpy as np  # learn \n",
    "import pandas as pd # learn\n",
    "from pandas import *\n",
    "from numpy import *\n",
    "\n",
    "from scipy import stats # look at scipy\n",
    "from scipy import linalg\n",
    "from scipy import *\n",
    "\n",
    " \n",
    "import matplotlib as mplt # learn matplolib \n",
    "from matplotlib import cm\n",
    "import matplotlib.pyplot as plt\n",
    "import matplotlib.gridspec as gridspec\n",
    "\n",
    "from mpl_toolkits.mplot3d import Axes3D\n",
    "from mpl_toolkits.mplot3d import proj3d\n",
    "\n",
    "import seaborn as sns \n",
    "sns.set_style(\"whitegrid\")\n",
    "sns.set(rc={\"figure.figsize\": (14, 6)})\n",
    "\n",
    "import IPython\n",
    "from IPython.display import display\n",
    "\n",
    "\n",
    "import matplotlib\n",
    "from matplotlib.ticker import FuncFormatter\n",
    "import matplotlib.pyplot as plt\n",
    " \n",
    "import sklearn as sk\n",
    "import itertools\n",
    "\n",
    "\n",
    "\n",
    "from pyspark import SparkContext, SparkConf\n",
    "from pyspark.sql import SQLContext\n",
    "from pyspark.sql.types import *\n",
    "\n",
    "from pyspark.mllib.regression import LabeledPoint\n"
   ]
  },
  {
   "cell_type": "code",
   "execution_count": 5,
   "metadata": {
    "collapsed": false
   },
   "outputs": [
    {
     "name": "stdout",
     "output_type": "stream",
     "text": [
      "loaded data\n"
     ]
    }
   ],
   "source": [
    "# data preparison: load data\n",
    "dta_RDD = sc.textFile(\"file:///home/tguo/data/tian-test/udpjitter-H1april2014_regTree.csv\")\n",
    "\n",
    "\n",
    "# dta_cateFeature_resetIdxAndFilter= sc.textFile(\n",
    "#     \"hdfs://computer61.ant-net/user/tguo/tian_udpjitter-H1april2014_regTree_mllib.csv\")\n",
    "\n",
    "print 'loaded data'\n",
    "         "
   ]
  },
  {
   "cell_type": "code",
   "execution_count": 87,
   "metadata": {
    "collapsed": false
   },
   "outputs": [
    {
     "data": {
      "text/plain": [
       "[u'unit_id,dtime,day,hour,minute,target,packet_size,stream_rate,duration,packets_up_sent,packets_down_sent,packets_up_recv,packets_down_recv,jitter_up,jitter_down,latency,successes,failures,location_id,ranNode,apNode,hubType,headlineSpeed',\n",
       " u'484532,1396436194,4,2,12,0,160,64000,10035892,500,500,500,499,1786,1792,132353,1,0,631016,5.0,7.0,9.0,2.0']"
      ]
     },
     "execution_count": 87,
     "metadata": {},
     "output_type": "execute_result"
    }
   ],
   "source": [
    "#raw_rdd=dta_RDD.map(lambda line: line.split(\",\"))\n",
    "#features_rdd=raw_rdd.map(lambda line: (line[0], line[1]))\n",
    "dta_RDD.take(2)"
   ]
  },
  {
   "cell_type": "code",
   "execution_count": 8,
   "metadata": {
    "collapsed": false
   },
   "outputs": [],
   "source": [
    "# data preparison: type transformation\n",
    "\n",
    "header=dta_RDD.first()\n",
    "\n",
    "fields = [StructField(field_name, StringType(), True) for field_name in header.split(',')]\n",
    "\n",
    "\n",
    "fields[2].dataType= FloatType()\n",
    "fields[3].dataType= FloatType()\n",
    "fields[4].dataType= FloatType()\n",
    "\n",
    "fields[5].dataType= FloatType()\n",
    "fields[6].dataType= FloatType()\n",
    "fields[7].dataType= FloatType()\n",
    "fields[8].dataType= FloatType()\n",
    "fields[9].dataType= FloatType()\n",
    "fields[10].dataType= FloatType()\n",
    "fields[11].dataType= FloatType()\n",
    "fields[12].dataType= FloatType()\n",
    "\n",
    "fields[13].dataType= FloatType()\n",
    "fields[14].dataType= FloatType()\n",
    "fields[15].dataType= FloatType()\n",
    "\n",
    "#fields[22].dataType= FloatType()\n",
    "\n",
    "fields\n",
    "\n",
    "schema = StructType(fields)\n",
    "\n",
    "\n",
    "toremove_header = dta_RDD.filter(lambda line: \"unit_id\" in line)\n",
    "toremove_header.collect()\n",
    "dta_noheader= dta_RDD.subtract(toremove_header)\n",
    "\n",
    "# dta_ready = dta_noheader.map(lambda line: line.split(\",\")).map(lambda r:\n",
    "#                                                                 (r[0],r[1],float(r[2]),float(r[3]),\n",
    "#                                                                 float(r[4]),float(r[5]),float(r[6]),float(r[7]),\n",
    "#                                                                 float(r[8]),float(r[9]),float(r[10]),float(r[11]),\n",
    "#                                                                 float(r[12]),float(r[13]),float(r[14]),float(r[15]),\n",
    "#                                                                 r[16],r[17],r[18],r[19],\n",
    "#                                                                 r[20],r[21],r[22]))\n",
    "                                                               \n",
    "    \n",
    "# df = sqlContext.createDataFrame(dta_type, schema)    \n",
    "\n",
    "#taxi_temp = taxiNoHeader.map(lambda k: k.split(\",\")).map(lambda p: (p[0], p[1], parse(p[2].strip('\"')), float(p[3]), float(p[4]) , p[5], p[6] , int(p[7]), parse(p[8].strip('\"')), float(p[9]), float(p[10]), int(p[11]), p[12], float(p[13]), int(p[14]), p[15] ))\n",
    "#taxi_temp.top(2)  # have a look:\n",
    "\n",
    "dta_ready = dta_noheader.map(lambda line: line.split(\",\")).map(lambda r:\n",
    "                                                                (r[0],r[1],float(r[2]),float(r[3]),\n",
    "                                                                float(r[4]),float(r[5]),float(r[6]),float(r[7]),\n",
    "                                                                float(r[8]),float(r[9]),float(r[10]),float(r[11]),\n",
    "                                                                float(r[12]),float(r[13]),float(r[14]),float(r[15]),\n",
    "                                                                r[16],r[17],r[18],r[19],\n",
    "                                                                r[20],r[21],r[22]))"
   ]
  },
  {
   "cell_type": "code",
   "execution_count": 6,
   "metadata": {
    "collapsed": false
   },
   "outputs": [],
   "source": [
    "# raw_rdd=dta_noheader.map(lambda line: line.split(\",\"))\n",
    "\n",
    "#features=['hour','minute','target','ranNode', 'apNode','hubType','headlineSpeed']\n",
    "\n",
    "#features_rdd=raw_rdd.map(lambda line: (line[     ], line[1],line[2]))\n",
    "#features_rdd.first()\n",
    "# training = raw_rdd.map(lambda line: (line[0], line[1]))"
   ]
  },
  {
   "cell_type": "code",
   "execution_count": 9,
   "metadata": {
    "collapsed": true
   },
   "outputs": [],
   "source": [
    "# data preparison:  feature index dictionary in the raw data set \n",
    "\n",
    "dict_feature = {'unit_id': 0,\n",
    "       'dtime': 1,\n",
    "        'day': 2,\n",
    "        'hour': 3,\n",
    "        'minute': 4,\n",
    "        'target': 5,\n",
    "        'packet_size': 6,\n",
    "        'stream_rate': 7,\n",
    "        'duration':8,\n",
    "        'packets_up_sent':9,\n",
    "        'packets_down_sent':10,\n",
    "        'packets_up_recv':11,\n",
    "        'packets_down_recv':12,\n",
    "        'jitter_up':13,\n",
    "        'jitter_down':14,\n",
    "        'latency':15,\n",
    "        'successes':16,\n",
    "        'failures':17,\n",
    "        'location_id':18,\n",
    "        'ranNode':19,\n",
    "        'apNode':20,\n",
    "        'hubType':21,\n",
    "        'headlineSpeed':22\n",
    "       };\n",
    "\n",
    "dict_feature_distValues = {'unit_id': 0,\n",
    "       #'dtime': 1,\n",
    "        'day': 1,\n",
    "        'hour': 15,\n",
    "        'minute': 4,\n",
    "        'target': 10,\n",
    "        #'packet_size': 6,\n",
    "        #'stream_rate': 7,\n",
    "        #'duration':8,\n",
    "        #'packets_up_sent':9,\n",
    "        #'packets_down_sent':10,\n",
    "        #'packets_up_recv':11,\n",
    "        #'packets_down_recv':12,\n",
    "        #'jitter_up':13,\n",
    "        #'jitter_down':14,\n",
    "        #'latency':15,\n",
    "        #'successes':16,\n",
    "        #'failures':17,\n",
    "        #'location_id':18,\n",
    "        'ranNode':5,\n",
    "        'apNode':21,\n",
    "        'hubType':13,\n",
    "        'headlineSpeed':4\n",
    "       };\n",
    "\n",
    "categorial_features = ['target', 'ranNode', 'apNode', 'hubType','headlineSpeed']"
   ]
  },
  {
   "cell_type": "code",
   "execution_count": 11,
   "metadata": {
    "collapsed": true
   },
   "outputs": [],
   "source": [
    "# data preparison: distince value count\n",
    "\n",
    "#do not run this, preprocess to summarize the number of distinct values for categorial features\n",
    "\n",
    "feature_distCnt = {}\n",
    "\n",
    "feature_distCnt['day'] =raw_rdd.map(lambda line: line[ dict_feature['day']  ]).distinct().count()\n",
    "feature_distCnt['hour'] =raw_rdd.map(lambda line: line[ didict_featurect['hour']  ]).distinct().count()\n",
    "feature_distCnt['target'] =raw_rdd.map(lambda line: line[ dict_feature['target']  ]).distinct().count()\n",
    "feature_distCnt['ranNode'] =raw_rdd.map(lambda line: line[ dict_feature['ranNode']  ]).distinct().count()\n",
    "feature_distCnt['apNode'] =raw_rdd.map(lambda line: line[ dict_feature['apNode']  ]).distinct().count()\n",
    "feature_distCnt['hubType'] =raw_rdd.map(lambda line: line[ dict_feature['hubType']  ]).distinct().count()\n",
    "feature_distCnt['headlineSpeed'] =raw_rdd.map(lambda line: line[ dict_feature['headlineSpeed']  ]).distinct().count()\n",
    "\n",
    "print feature_distCnt\n",
    "\n",
    "\n",
    "#{'ranNode': 5, 'target': 10, 'hour': 15, 'apNode': 21, 'headlineSpeed': 4, 'hubType': 13, 'day': 1}"
   ]
  },
  {
   "cell_type": "code",
   "execution_count": 6,
   "metadata": {
    "collapsed": false
   },
   "outputs": [
    {
     "name": "stdout",
     "output_type": "stream",
     "text": [
      "5\n",
      "10 {0.0: 0, 1.0: 4, 2.0: 8, 3.0: 2, 4.0: 5, 5.0: 9, 6.0: 3, 7.0: 6, 8.0: 7, 9.0: 1}\n",
      "5 {u'5.0': 3, u'0.0': 0, u'2.0': 1, u'1.0': 4, u'6.0': 2}\n",
      "21 {u'15.0': 0, u'8.0': 1, u'19.0': 16, u'4.0': 2, u'10.0': 3, u'0.0': 4, u'6.0': 13, u'20.0': 15, u'17.0': 9, u'12.0': 19, u'11.0': 18, u'7.0': 5, u'5.0': 14, u'3.0': 6, u'16.0': 7, u'18.0': 8, u'1.0': 20, u'2.0': 10, u'9.0': 11, u'13.0': 12, u'14.0': 17}\n",
      "13 {u'5.0': 9, u'10.0': 0, u'1.0': 12, u'4.0': 1, u'8.0': 2, u'0.0': 3, u'11.0': 10, u'7.0': 4, u'12.0': 11, u'3.0': 5, u'6.0': 8, u'2.0': 6, u'9.0': 7}\n",
      "4 {u'0.0': 0, u'2.0': 3, u'4.0': 1, u'3.0': 2}\n"
     ]
    }
   ],
   "source": [
    "# data preparison: index reset for categorical feature\n",
    "\n",
    "# do not run, preprocess the categorial data to reset index\n",
    "\n",
    "def reset_index_categ(fulldata_rdd, feature):\n",
    "    numValues=  dict_feature_distValues[feature]\n",
    "    values= fulldata_rdd.map(lambda line: line[ dict_feature[feature] ]).distinct().collect()\n",
    "    return dict(zip(values, range(0,numValues)))\n",
    "     \n",
    "numCateFeature = len(categorial_features)\n",
    "\n",
    "print numCateFeature\n",
    "\n",
    "for i in range(0,numCateFeature):\n",
    "    tmpdict= reset_index_categ(dta_ready, categorial_features[i]) \n",
    "    index_cateFeatures.append(tmpdict)\n",
    "    print len(tmpdict),tmpdict\n",
    "    "
   ]
  },
  {
   "cell_type": "code",
   "execution_count": 10,
   "metadata": {
    "collapsed": false
   },
   "outputs": [],
   "source": [
    "index_cateFeatures=[]\n",
    "\n",
    "categorial_features = ['target', 'ranNode', 'apNode', 'hubType','headlineSpeed']\n",
    "\n",
    "tmpdict={0.0: 0, 1.0: 4, 2.0: 8, 3.0: 2, 4.0: 5, 5.0: 9, 6.0: 3, 7.0: 6, 8.0: 7, 9.0: 1}\n",
    "index_cateFeatures.append(tmpdict)\n",
    "\n",
    "tmpdict={u'5.0': 3, u'0.0': 0, u'2.0': 1, u'1.0': 4, u'6.0': 2}\n",
    "index_cateFeatures.append(tmpdict)\n",
    "\n",
    "tmpdict={u'15.0': 0, u'8.0': 1, u'19.0': 16, u'4.0': 2, u'10.0': 3, u'0.0': 4, u'6.0': 13, u'20.0': 15, \n",
    "         u'17.0': 9, u'12.0': 19, u'11.0': 18, u'7.0': 5, u'5.0': 14, u'3.0': 6, u'16.0': 7, u'18.0': 8, \n",
    "         u'1.0': 20, u'2.0': 10, u'9.0': 11, u'13.0': 12, u'14.0': 17}\n",
    "index_cateFeatures.append(tmpdict)\n",
    "\n",
    "tmpdict={u'5.0': 9, u'10.0': 0, u'1.0': 12, u'4.0': 1, u'8.0': 2, u'0.0': 3, u'11.0': 10, u'7.0': 4,\n",
    "         u'12.0': 11, u'3.0': 5, u'6.0': 8, u'2.0': 6, u'9.0': 7}\n",
    "index_cateFeatures.append(tmpdict)\n",
    "\n",
    "tmpdict={u'0.0': 0, u'2.0': 3, u'4.0': 1, u'3.0': 2}\n",
    "index_cateFeatures.append(tmpdict)\n",
    "\n",
    "0,7,3,5"
   ]
  },
  {
   "cell_type": "code",
   "execution_count": 20,
   "metadata": {
    "collapsed": false
   },
   "outputs": [
    {
     "data": {
      "text/plain": [
       "array([ 1,  2,  3,  5,  6,  7,  8,  9, 11, 13, 14, 16, 17, 18, 20])"
      ]
     },
     "execution_count": 20,
     "metadata": {},
     "output_type": "execute_result"
    }
   ],
   "source": [
    "sort(\n",
    "[8,7,3,16,18,17,2,9,13,6,5,20,14,11,1])"
   ]
  },
  {
   "cell_type": "code",
   "execution_count": 11,
   "metadata": {
    "collapsed": false
   },
   "outputs": [],
   "source": [
    "# data preparison: index reset for categorical feature\n",
    "\n",
    "# do not run, preprocess the data set by replacing values of categorial feature with the indexes\n",
    "\n",
    "categorial_features_idx=[]\n",
    "\n",
    "def feature_idx(feat):\n",
    "    return dict_feature[feat]\n",
    "\n",
    "categorial_features_idx = map(feature_idx, categorial_features)\n",
    "\n",
    "numFeatures = len(dict_feature)\n",
    "\n",
    "def transform_line(line):\n",
    "    tmpline=[]\n",
    "    for i in range(0,numFeatures):\n",
    "        if i in categorial_features_idx:\n",
    "            tmpline.append(  index_cateFeatures[ categorial_features_idx.index(i) ][line[i] ]      )\n",
    "        else:\n",
    "            tmpline.append(line[i])        \n",
    "    return tmpline\n",
    "    \n",
    "\n",
    "dta_cateFeature_resetIdx = dta_ready.map(lambda line: transform_line(line))\n",
    "\n",
    "    "
   ]
  },
  {
   "cell_type": "code",
   "execution_count": 12,
   "metadata": {
    "collapsed": false
   },
   "outputs": [
    {
     "data": {
      "text/plain": [
       "[[u'149404',\n",
       "  u'1396506203',\n",
       "  4.0,\n",
       "  3.0,\n",
       "  8.0,\n",
       "  4,\n",
       "  160.0,\n",
       "  64000.0,\n",
       "  10046209.0,\n",
       "  500.0,\n",
       "  500.0,\n",
       "  500.0,\n",
       "  500.0,\n",
       "  207.0,\n",
       "  189.0,\n",
       "  8739.0,\n",
       "  u'1',\n",
       "  u'0',\n",
       "  u'226887',\n",
       "  2,\n",
       "  14,\n",
       "  0,\n",
       "  1]]"
      ]
     },
     "execution_count": 12,
     "metadata": {},
     "output_type": "execute_result"
    }
   ],
   "source": [
    "# data preparison: filter the outliers in Y in advance\n",
    "\n",
    "dta_cateFeature_resetIdxAndFilter= dta_cateFeature_resetIdx.filter( \n",
    "    lambda line: (line[dict_feature['jitter_down']] <  10000) & (line[dict_feature['jitter_down']] >0)  )\n",
    "\n",
    "dta_cateFeature_resetIdxAndFilter.take(1)\n"
   ]
  },
  {
   "cell_type": "code",
   "execution_count": 32,
   "metadata": {
    "collapsed": false
   },
   "outputs": [],
   "source": [
    "dict_feature['jitter_down']\n",
    "tmpline= dta_cateFeature_resetIdxAndFilter.take(1)"
   ]
  },
  {
   "cell_type": "code",
   "execution_count": 38,
   "metadata": {
    "collapsed": false
   },
   "outputs": [],
   "source": [
    "#????????????\n",
    "labeledData=  dta_cateFeature_resetIdx.map(lambda line: LabeledPoint( \n",
    "        line[ dict_feature['jitter_down']  ], [ line[ dict_feature['hour']  ], line[ dict_feature['minute']  ],\n",
    "                                       line[ dict_feature['target']  ],line[ dict_feature['ranNode']  ],\n",
    "                                       line[ dict_feature['apNode']  ],line[ dict_feature['hubType']  ],\n",
    "                                       line[ dict_feature['headlineSpeed']]  ] ) )\n",
    "\n",
    "\n",
    "# Split the data into training and test sets (30% held out for testing)\n",
    "(trainingData, testData) = labeledData.randomSplit([0.7, 0.3])"
   ]
  },
  {
   "cell_type": "code",
   "execution_count": 40,
   "metadata": {
    "collapsed": false
   },
   "outputs": [
    {
     "name": "stdout",
     "output_type": "stream",
     "text": [
      "[LabeledPoint(409.0, [9.0,18.0,4.0,2.0,12.0,0.0,3.0])]\n"
     ]
    }
   ],
   "source": [
    "#??????????/\n",
    "\n",
    "print trainingData.take(1)"
   ]
  },
  {
   "cell_type": "code",
   "execution_count": null,
   "metadata": {
    "collapsed": false
   },
   "outputs": [],
   "source": [
    "# data preparison: store the pre-processed data in HDFS\n",
    "dta_cateFeature_resetIdxAndFilter.saveAsTextFile(\"hdfs://computer61.ant-net/user/tguo/tian_udpjitter-H1april2014_regTree_mllib.csv\")"
   ]
  },
  {
   "cell_type": "code",
   "execution_count": 17,
   "metadata": {
    "collapsed": false
   },
   "outputs": [],
   "source": [
    "#treat all features as continuous ones\n",
    "from pyspark.mllib.regression import LabeledPoint\n",
    "from pyspark.mllib.tree import DecisionTree, DecisionTreeModel\n",
    "from pyspark.mllib.util import MLUtils\n",
    "\n",
    "\n",
    "labeledData=  dta_cateFeature_resetIdx.map(lambda line: LabeledPoint( \n",
    "        line[ dict_feature['jitter_down']  ], [ line[ dict_feature['hour']  ], line[ dict_feature['minute']  ],\n",
    "                                       line[ dict_feature['target']  ],line[ dict_feature['ranNode']  ],\n",
    "                                       line[ dict_feature['apNode']  ],line[ dict_feature['hubType']  ],\n",
    "                                       line[ dict_feature['headlineSpeed']]  ] ) )\n",
    "\n",
    "\n",
    "# Split the data into training and test sets (30% held out for testing)\n",
    "(trainingData, testData) = labeledData.randomSplit([0.7, 0.3])\n",
    "\n",
    "# Train a DecisionTree model.\n",
    "#  Empty categoricalFeaturesInfo indicates all features are continuous.\n",
    "\n",
    "# 2:10,3:5,4:21,5:13\n",
    "\n",
    "model = DecisionTree.trainRegressor(trainingData, categoricalFeaturesInfo={\n",
    "                                                                           2:10,\n",
    "                                                                           3:5,\n",
    "                                                                           4:21,\n",
    "                                                                           5:13,\n",
    "                                                                           6:4\n",
    "    },\n",
    "                                    impurity='variance', maxDepth=8, maxBins=32)\n",
    "\n",
    "# Evaluate model on test instances and compute test error\n",
    "#predictions = model.predict(testData.map(lambda x: x.features))\n",
    "#labelsAndPredictions = testData.map(lambda lp: lp.label).zip(predictions)\n",
    "#testMSE = labelsAndPredictions.map(lambda (v, p): (v - p) * (v - p)).sum() / float(testData.count())\n",
    "#print('Test Mean Squared Error = ' + str(testMSE))\n",
    "#print('Learned regression tree model:')\n",
    "#print(model.toDebugString())\n",
    "\n",
    "# Save and load model\n",
    "#model.save(sc, \"myModelPath\")\n",
    "#sameModel = DecisionTreeModel.load(sc, \"myModelPath\")\n",
    "#print data"
   ]
  },
  {
   "cell_type": "code",
   "execution_count": 7,
   "metadata": {
    "collapsed": false
   },
   "outputs": [],
   "source": [
    "# Evaluate model on test instances and compute test error\n",
    "\n",
    "predictions = model.predict(testData.map(lambda x: x.features))\n",
    "local_predictions = predictions.collect()\n",
    "\n",
    "labels = testData.map(lambda lp: lp.label)\n",
    "local_labels = labels.collect()\n",
    "\n",
    "local_predAndLabel= zip(local_predictions,local_labels)\n",
    "local_resid=map( lambda x,y: (x-y)*(x-y), local_predictions,local_labels )\n",
    "\n",
    "print sum(local_resid)/len(local_predictions)"
   ]
  },
  {
   "cell_type": "code",
   "execution_count": 23,
   "metadata": {
    "collapsed": false
   },
   "outputs": [],
   "source": [
    "# # set categorial features\n",
    "\n",
    "# # from pyspark.mllib.regression import LabeledPoint\n",
    "# # from pyspark.mllib.tree import DecisionTree, DecisionTreeModel\n",
    "# # from pyspark.mllib.util import MLUtils\n",
    "\n",
    "# # labeledData=  dta_ready.map(lambda line: LabeledPoint( \n",
    "# #         line[ dict_feature['jitter_down']  ], [ line[ dict_feature['hour']  ], line[ dict_feature['minute']  ],\n",
    "# #                                        line[ dict_feature['target']  ],line[ dict_feature['ranNode']  ],\n",
    "# #                                        line[ dict_feature['apNode']  ],line[ dict_feature['hubType']  ],\n",
    "# #                                        line[ dict_feature['headlineSpeed']]  ] ) )\n",
    "\n",
    "\n",
    "# # Split the data into training and test sets (30% held out for testing)\n",
    "# (trainingData, testData) = labeledData.randomSplit([0.7, 0.3])\n",
    "\n",
    "# # Train a DecisionTree model.\n",
    "# #  Empty categoricalFeaturesInfo indicates all features are continuous.\n",
    "\n",
    "# # 2:10,3:5,4:21,5:13\n",
    "\n",
    "# model = DecisionTree.trainRegressor(trainingData, categoricalFeaturesInfo={2:10\n",
    "#                                                                            #dict_feature['ranNode']:5,\n",
    "#                                                                            #dict_feature['apNode']:21,\n",
    "#                                                                            #dict_feature['hubType'] :13\n",
    "#                                                                           },\n",
    "#                                     impurity='variance', maxDepth=8, maxBins=32)\n",
    "\n"
   ]
  },
  {
   "cell_type": "code",
   "execution_count": 24,
   "metadata": {
    "collapsed": true
   },
   "outputs": [],
   "source": [
    "# predictions = model.predict(testData.map(lambda x: x.features))\n",
    "# local_predictions = predictions.collect()\n",
    "\n",
    "# labels = testData.map(lambda lp: lp.label)\n",
    "# local_labels = labels.collect()\n",
    "\n",
    "# local_predAndLabel= zip(local_predictions,local_labels)\n",
    "# local_resid=map( lambda x,y: (x-y)*(x-y), local_predictions,local_labels )\n",
    "# print sum(local_resid)/len(local_predictions)"
   ]
  },
  {
   "cell_type": "code",
   "execution_count": 6,
   "metadata": {
    "collapsed": true
   },
   "outputs": [],
   "source": [
    "# has problems \n",
    "predictions = model.predict(testData.map(lambda x: x.features))\n",
    "\n",
    "labelsAndPredictions = testData.map(lambda lp: lp.label).zip(predictions)\n",
    "\n",
    "testMSE = labelsAndPredictions.map(lambda (v, p): (v - p) * (v - p))"
   ]
  },
  {
   "cell_type": "code",
   "execution_count": null,
   "metadata": {
    "collapsed": false
   },
   "outputs": [],
   "source": [
    "# has problems \n",
    "local_testmse = testMSE.collect()"
   ]
  },
  {
   "cell_type": "code",
   "execution_count": 44,
   "metadata": {
    "collapsed": false
   },
   "outputs": [
    {
     "name": "stdout",
     "output_type": "stream",
     "text": [
      "0 depth: 341781.101185 341989.947617\n"
     ]
    }
   ],
   "source": [
    "#model training: cross-validation for regression tree with categorical features\n",
    "\n",
    "from pyspark.mllib.regression import LabeledPoint\n",
    "from pyspark.mllib.tree import DecisionTree, DecisionTreeModel\n",
    "from pyspark.mllib.util import MLUtils\n",
    "\n",
    "\n",
    "training_error=[]\n",
    "test_error=[]\n",
    "# line[ dict_feature['hour']  ], line[ dict_feature['minute']  ],\n",
    "\n",
    "labeledData=  dta_cateFeature_resetIdxAndFilter.map(lambda line: LabeledPoint( \n",
    "        line[ dict_feature['jitter_down']  ], [ line[ dict_feature['target']  ],line[ dict_feature['ranNode']  ],\n",
    "                                       line[ dict_feature['apNode']  ],line[ dict_feature['hubType']  ],\n",
    "                                       line[ dict_feature['headlineSpeed']],   \n",
    "                                       line[ dict_feature['hour'] ],\n",
    "                                       line[ dict_feature['minute']] ]\n",
    "                                                   ))\n",
    "\n",
    "depth_up=1\n",
    "depth_low=0\n",
    "\n",
    "\n",
    "(trainingData, testData) = labeledData.randomSplit([0.8, 0.2])\n",
    "\n",
    "test_labels = testData.map(lambda lp: lp.label)\n",
    "local_test_labels = test_labels.collect()\n",
    "\n",
    "train_labels = trainingData.map(lambda lp: lp.label)\n",
    "local_train_labels = train_labels.collect()\n",
    "\n",
    "test_size= len(local_test_labels) \n",
    "train_size= len(local_train_labels) \n",
    "\n",
    "for depth in range(depth_low, depth_up):\n",
    "    \n",
    "\n",
    "    model = DecisionTree.trainRegressor(trainingData, categoricalFeaturesInfo={\n",
    "                                                                           0:10,\n",
    "                                                                           1:5,\n",
    "                                                                           2:21,\n",
    "                                                                           3:13,\n",
    "                                                                           4:4,\n",
    "                                                                           5:24,\n",
    "                                                                           6:24,\n",
    "    },\n",
    "                                    impurity='variance', maxDepth=depth, maxBins=64)\n",
    "    \n",
    "  \n",
    "\n",
    "    test_predictions = model.predict(testData.map(lambda x: x.features))\n",
    "    local_test_predictions = test_predictions.collect()\n",
    "    \n",
    "    \n",
    "    train_predictions = model.predict(trainingData.map(lambda x: x.features))\n",
    "    local_train_predictions = train_predictions.collect()\n",
    "\n",
    "\n",
    "    # test error\n",
    "    local_test_resid=map( lambda x,y: (x-y)*(x-y), local_test_predictions,local_test_labels )\n",
    "    test_error.append( sum(local_test_resid)/test_size  )\n",
    "    \n",
    "    #training error \n",
    "    local_train_resid=map( lambda x,y: (x-y)*(x-y), local_train_predictions,local_train_labels )\n",
    "    training_error.append( sum(local_train_resid)/train_size ) \n",
    "    \n",
    "    print depth,\"depth:\", sum(local_test_resid)/test_size,sum(local_train_resid)/train_size\n",
    "\n"
   ]
  },
  {
   "cell_type": "code",
   "execution_count": null,
   "metadata": {
    "collapsed": false
   },
   "outputs": [],
   "source": [
    "zip(local_predictions,local_labels)"
   ]
  },
  {
   "cell_type": "code",
   "execution_count": 111,
   "metadata": {
    "collapsed": false
   },
   "outputs": [
    {
     "data": {
      "text/plain": [
       "18"
      ]
     },
     "execution_count": 111,
     "metadata": {},
     "output_type": "execute_result"
    }
   ],
   "source": [
    "len(training_error)"
   ]
  },
  {
   "cell_type": "code",
   "execution_count": 113,
   "metadata": {
    "collapsed": false
   },
   "outputs": [
    {
     "data": {
      "text/plain": [
       "<matplotlib.legend.Legend at 0x7fd009695590>"
      ]
     },
     "execution_count": 113,
     "metadata": {},
     "output_type": "execute_result"
    },
    {
     "data": {
      "image/png": "[encoded data removed]",
      "text/plain": [
       "<matplotlib.figure.Figure at 0x7fd00a2e2190>"
      ]
     },
     "metadata": {},
     "output_type": "display_data"
    }
   ],
   "source": [
    "# results plot\n",
    "import matplotlib.pyplot as plt\n",
    "\n",
    "train_err= [324874.74830110994,\n",
    " 323893.25056644145,\n",
    " 322256.66357627342,\n",
    " 320634.16014434415,\n",
    " 318738.56599240517,\n",
    " 315408.62787753151,\n",
    " 312602.99774882197,\n",
    " 310961.87813755259,\n",
    " 310055.00376139814,\n",
    " 309688.45097511238,\n",
    " 309460.70390697132,\n",
    " 309324.58169493725,\n",
    "  309258.05176043184,\n",
    "#  309224.29361089203,\n",
    "#  309209.04785431677\n",
    " ]\n",
    "\n",
    "test_err=[324535.03925379534,\n",
    " 323575.27454418037,\n",
    " 321938.90627322049,\n",
    " 320375.2880430051,\n",
    " 318574.6025011242,\n",
    " 315485.05143947661,\n",
    " 312832.31695845653,\n",
    " 311322.53290555777,\n",
    " 310535.30987572012,\n",
    " 310301.68184977653,\n",
    " 310216.34958914813,\n",
    " 310180.71314780222,\n",
    "  310173.07711807202,\n",
    "#  310184.1219211978,\n",
    "#  310192.60701982823\n",
    "         ]\n",
    "\n",
    "\n",
    "\n",
    "matplotlib.rcParams.update({'font.size': 52})\n",
    "\n",
    "x=range(depth_low,depth_up-2)\n",
    "\n",
    "fig = plt.figure()\n",
    "\n",
    "p1=plt.plot(x, training_error,'r--^', label='training set error of MLlib')\n",
    "#legend(framealpha=0.5)\n",
    "p2=plt.plot(x, test_error,'r-o',label='testing set error of MLlib')\n",
    "\n",
    "# p1=plt.plot(x, train_err,'b--^', label='training set error of scikit')\n",
    "# #legend(framealpha=0.5)\n",
    "# p2=plt.plot(x, test_err,'b-o',label='testing set error of scikit')\n",
    "\n",
    "plt.xlabel('Max depth',fontsize=18)\n",
    "plt.ylabel('Mean square error',fontsize=18)\n",
    "plt.axis([2,16,200000,400000],fontsize=28)\n",
    "\n",
    "\n",
    "plt.legend( loc='lower right',fontsize=21 )\n",
    "\n"
   ]
  },
  {
   "cell_type": "code",
   "execution_count": 16,
   "metadata": {
    "collapsed": false
   },
   "outputs": [
    {
     "data": {
      "text/plain": [
       "367953.82632824156"
      ]
     },
     "execution_count": 16,
     "metadata": {},
     "output_type": "execute_result"
    }
   ],
   "source": [
    "#single run for regression tree with categorical features\n",
    "\n",
    "from pyspark.mllib.regression import LabeledPoint\n",
    "from pyspark.mllib.tree import DecisionTree, DecisionTreeModel\n",
    "from pyspark.mllib.util import MLUtils\n",
    "\n",
    "\n",
    "#dta_cateFeature_resetIdx\n",
    "#dta_cateFeature_resetIdxAndFilter\n",
    "\n",
    "# labeledData=  dta_cateFeature_resetIdxAndFilter.map(lambda line: LabeledPoint( \n",
    "#         line[ dict_feature['jitter_down']  ], [ line[ dict_feature['hour']  ], line[ dict_feature['minute']  ],\n",
    "#                                        line[ dict_feature['target']  ],line[ dict_feature['ranNode']  ],\n",
    "#                                        line[ dict_feature['apNode']  ],line[ dict_feature['hubType']  ],\n",
    "#                                        line[ dict_feature['headlineSpeed']]  ] ) )\n",
    "\n",
    "labeledData=  dta_cateFeature_resetIdxAndFilter.map(lambda line: LabeledPoint( \n",
    "        line[ dict_feature['jitter_down']  ], [ line[ dict_feature['target']  ],line[ dict_feature['ranNode']  ],\n",
    "                                       line[ dict_feature['apNode']  ],line[ dict_feature['hubType']  ],\n",
    "                                       line[ dict_feature['headlineSpeed']],\n",
    "                                               line[ dict_feature['hour']  ],\n",
    "                                               line[ dict_feature['minute']  ]\n",
    "                                              ] ) )\n",
    "\n",
    "\n",
    "\n",
    "(trainingData, testData) = labeledData.randomSplit([0.8, 0.2])\n",
    "\n",
    "singel_ran_model = DecisionTree.trainRegressor(trainingData, categoricalFeaturesInfo={\n",
    "                                                                           0:10,\n",
    "                                                                           1:5,\n",
    "                                                                           2:21,\n",
    "                                                                           3:13,\n",
    "                                                                           4:4,\n",
    "                                                                           5:24,\n",
    "                                                                           6:24,\n",
    "#                                                                            2:10,\n",
    "#                                                                            3:5,\n",
    "#                                                                            4:21,\n",
    "#                                                                            5:13,\n",
    "#                                                                            6:4\n",
    "    },\n",
    "                                    impurity='variance',maxDepth=4, maxBins=128)\n",
    "    \n",
    "    \n",
    "# test error\n",
    "# predictions = model.predict(testData.map(lambda x: x.features))\n",
    "# local_predictions = predictions.collect()\n",
    "\n",
    "# labels = testData.map(lambda lp: lp .label)\n",
    "# local_labels = labels.collect()\n",
    "# local_resid=map( lambda x,y: (x-y)*(x-y), local_predictions,local_labels )\n",
    "\n",
    "# sum(local_resid)/len(local_predictions)\n",
    "    \n",
    "# #test_error.append( sum(local_resid)/len(local_predictions) )\n",
    "    \n",
    "# #training err  or \n",
    "# predictions = model.predict(trainingData.map(lambda x: x.features))\n",
    "# local_predictions = predictions.collect()\n",
    "\n",
    "# labels = trainingData.map(lambda lp: lp.label)\n",
    "# local_labels = labels.collect()\n",
    "# local_resid=map( lambda x,y: (x-y)*(x-y), local_predictions,local_labels )\n",
    "    \n",
    "# #training_error.append( sum(local_resid)/len(local_predictions) ) \n",
    "# sum(local_resid)/len(local_predictions)\n",
    "\n",
    "# test error\n",
    "predictions = model.predict(testData.map(lambda x: x.features))\n",
    "local_predictions = predictions.collect()\n",
    "\n",
    "labels = testData.map(lambda lp: lp.label)\n",
    "local_labels = labels.collect()\n",
    "local_resid=map( lambda x,y: (x-y)*(x-y), local_predictions,local_labels )\n",
    "\n",
    "sum(local_resid)/len(local_predictions)"
   ]
  },
  {
   "cell_type": "code",
   "execution_count": 37,
   "metadata": {
    "collapsed": false
   },
   "outputs": [
    {
     "data": {
      "text/plain": [
       "370429.47524127859"
      ]
     },
     "execution_count": 37,
     "metadata": {},
     "output_type": "execute_result"
    }
   ],
   "source": [
    "# test error\n",
    "predictions = model.predict(testData.map(lambda x: x.features))\n",
    "local_predictions = predictions.collect()\n",
    "\n",
    "labels = testData.map(lambda lp: lp.label)\n",
    "local_labels = labels.collect()\n",
    "local_resid=map( lambda x,y: (x-y)*(x-y), local_predictions,local_labels )\n",
    "\n",
    "sum(local_resid)/len(local_predictions)\n",
    "    \n",
    "# #test_error.append( sum(local_resid)/len(local_predictions) )\n",
    "\n",
    "# #training error \n",
    "# predictions = model.predict(trainingData.map(lambda x: x.features))\n",
    "# local_predictions = predictions.collect()\n",
    "\n",
    "# labels = trainingData.map(lambda lp: lp.label)\n",
    "# local_labels = labels.collect()\n",
    "# local_resid=map( lambda x,y: (x-y)*(x-y), local_predictions,local_labels )\n",
    "    \n",
    "# #training_error.append( sum(local_resid)/len(local_predictions) ) \n",
    "# sum(local_resid)/len(local_predictions)"
   ]
  },
  {
   "cell_type": "code",
   "execution_count": null,
   "metadata": {
    "collapsed": true
   },
   "outputs": [],
   "source": [
    "# extract the structure of trained tree\n",
    "\n",
    "#{'ranNode': 5, 'target': 10, 'hour': 15, 'apNode': 21, 'headlineSpeed': 4, 'hubType': 13, 'day': 1}\n",
    "\n",
    "node_feature={}\n",
    "node_feature_valu={}\n",
    "\n",
    "\n",
    ", [ line[ dict_feature['target']  ],line[ dict_feature['ranNode']  ],\n",
    "                                       line[ dict_feature['apNode']  ],line[ dict_feature['hubType']  ],\n",
    "                                       line[ dict_feature['headlineSpeed']],\n",
    "                                               line[ dict_feature['hour']  ],\n",
    "                                               line[ dict_feature['minute']  ]\n",
    "\n",
    "\n",
    "\n",
    "node_feature.\n",
    "root: 4 (1,2,0)\n",
    "layer1: 6 {4.0,2.0,5.0,1.0,6.0,7.0,0.0,8.0,9.0,3.0,10.0,11.0,23.0,12.0,13.0,14.0,15.0,22.0,17.0,16.0}\n",
    "layer2: 2 {4.0,2.0,5.0,1.0,6.0,7.0,0.0,8.0,9.0,3.0,10.0,11.0,23.0,12.0,13.0,14.0,15.0,22.0,17.0,16.0} \n",
    "layer3: 2  {1.0,18.0}\n",
    "layer4: 3  {1.0,18.0}\n",
    "    \n",
    "headlineSpeed: {0,1,2}{3}\n",
    "\n",
    "minute: \n",
    "   \n",
    "   \n",
    "\n",
    "    \n",
    "    "
   ]
  },
  {
   "cell_type": "code",
   "execution_count": 17,
   "metadata": {
    "collapsed": false
   },
   "outputs": [],
   "source": [
    "modelFile = \"/home/tguo/tree_struc_mllib1.txt\"\n",
    "f = open(modelFile,\"w\") \n",
    "f.write(singel_ran_model.toDebugString())\n",
    "f.close() \n"
   ]
  },
  {
   "cell_type": "code",
   "execution_count": 103,
   "metadata": {
    "collapsed": false
   },
   "outputs": [],
   "source": [
    "modelFile = \"/home/tguo/test_res.txt\"\n",
    "f = open(modelFile,\"w\") "
   ]
  },
  {
   "cell_type": "code",
   "execution_count": 42,
   "metadata": {
    "collapsed": false
   },
   "outputs": [
    {
     "name": "stdout",
     "output_type": "stream",
     "text": [
      "Test Mean Squared Error = 0.250749711649\n",
      "Test Mean Squared Error = 0.000340881421963\n",
      "Test Mean Squared Error = 0.0\n",
      "Test Mean Squared Error = 0.0\n",
      "Test Mean Squared Error = 0.0\n",
      "Test Mean Squared Error = 0.0\n",
      "Test Mean Squared Error = 0.0\n",
      "Test Mean Squared Error = 0.0\n",
      "Test Mean Squared Error = 0.0\n",
      "Test Mean Squared Error = 0.0\n"
     ]
    }
   ],
   "source": [
    "# test for mllib svm dataset\n",
    "from pyspark.mllib.regression import LabeledPoint\n",
    "from pyspark.mllib.tree import DecisionTree, DecisionTreeModel\n",
    "from pyspark.mllib.util import MLUtils\n",
    "\n",
    "# Load and parse the data file into an RDD of LabeledPoint.\n",
    "data = MLUtils.loadLibSVMFile(sc, 'file:///home/tguo/sample_libsvm_data.txt')\n",
    "# Split the data into training and test sets (30% held out for testing)\n",
    "(trainingData, testData) = data.randomSplit([0.8, 0.2])\n",
    "\n",
    "# Train a DecisionTree model.\n",
    "#  Empty categoricalFeaturesInfo indicates all features are continuous.\n",
    "\n",
    "\n",
    "for depth in range(0,10):\n",
    "    model = DecisionTree.trainRegressor(trainingData, categoricalFeaturesInfo={},\n",
    "                                    impurity='variance', maxDepth=depth, maxBins=64)\n",
    "\n",
    "    # Evaluate model on test instances and compute test error\n",
    "    predictions = model.predict(testData.map(lambda x: x.features))\n",
    "    labelsAndPredictions = testData.map(lambda lp: lp.label).zip(predictions)\n",
    "    testMSE = labelsAndPredictions.map(lambda (v, p): (v - p) * (v - p)).sum() / float(testData.count())\n",
    "    print('Test Mean Squared Error = ' + str(testMSE))\n",
    "# print('Learned regression tree model:')\n",
    "# print(model.toDebugString())\n",
    "\n",
    "# Save and load model\n",
    "# model.save(sc, \"myModelPath\")\n",
    "# sameModel = DecisionTreeModel.load(sc, \"myModelPath\")"
   ]
  },
  {
   "cell_type": "code",
   "execution_count": 46,
   "metadata": {
    "collapsed": false
   },
   "outputs": [
    {
     "name": "stdout",
     "output_type": "stream",
     "text": [
      "loaded data\n",
      "<class 'pyspark.rdd.RDD'>\n"
     ]
    }
   ],
   "source": [
    "# data preparison: load data\n",
    "fdta_RDD = sc.textFile(\"file:///home/tguo/data/tian-test/2008_mllib.csv\")\n",
    "\n",
    "# dta_cateFeature_resetIdxAndFilter= sc.textFile(\n",
    "#     \"hdfs://computer61.ant-net/user/tguo/tian_udpjitter-H1april2014_regTree_mllib.csv\")\n",
    "\n",
    "print 'loaded data'\n",
    "print type(fdta_RDD)\n",
    "         "
   ]
  },
  {
   "cell_type": "code",
   "execution_count": 14,
   "metadata": {
    "collapsed": false
   },
   "outputs": [
    {
     "name": "stdout",
     "output_type": "stream",
     "text": [
      "(328.0, 10, 10, 2, 2, 8, 1, 3)\n",
      "3315067\n"
     ]
    }
   ],
   "source": [
    "#BT data\n",
    "\n",
    "# dta_RDD = sc.textFile(\"file:///home/tguo/data/tian-test/udpjitter-H1april2014_regTree.csv\")\n",
    "\n",
    "dta_RDD = sc.textFile(\"hdfs://computer61.ant-net/user/tguo/udpjitter-H1april2014_regTree_mllib.csv\")\n",
    "\n",
    "\n",
    "dta_splited = dta_RDD.map(lambda line: line.split(\",\")).map(lambda r:\n",
    "                                                                (float(r[0]),int( float(r[1])), \n",
    "                                                                 int(float(r[2])),int(float(r[3])),\n",
    "                                                                 int(float(r[4])),int(float(r[5])),\n",
    "                                                                 int(float(r[6])),int(float(r[7])) ))\n",
    "# dta_splited.first()\n",
    "\n",
    "dta= dta_splited\n",
    "dta.cache()\n",
    "print dta.first()\n",
    "print dta.count()\n",
    "\n",
    "# dta_filtered = dta.filter(lambda line: line[0] <2000 )\n",
    "# dta_filtered.cache()\n",
    "# dta_filtered.count()\n",
    "# print dta.count()"
   ]
  },
  {
   "cell_type": "code",
   "execution_count": 9,
   "metadata": {
    "collapsed": false
   },
   "outputs": [
    {
     "name": "stdout",
     "output_type": "stream",
     "text": [
      " original: [(79.6339111444, 3, 12, 101, 1005)]\n",
      "1000000\n",
      "feature value re-indexed: (79.6339111444, 1, 1, 0, 4)\n",
      "1000000\n",
      "done\n",
      "check:\n",
      "5\n",
      "5\n",
      "5\n",
      "5\n"
     ]
    }
   ],
   "source": [
    "# synthetic data\n",
    "dta_RDD = sc.textFile(\"file:///home/tguo/tian_src/syndata_f4v5_6zeros_1percen.txt\")\n",
    "# synthetic_data_6zeros_0.01percen.txt\n",
    "dta_RDD.cache()\n",
    "\n",
    "num_cols= 4\n",
    "def cons_valueFeatures( line):\n",
    "    val_feature=[float(line[num_cols]) ]\n",
    "    for i in range(0, num_cols):\n",
    "        val_feature.append(  int(line[i]))\n",
    "    return tuple(val_feature)\n",
    "        \n",
    "dta_splited = dta_RDD.map(lambda line: line.split(\",\")).map(lambda r: cons_valueFeatures(r)) \n",
    "dta= dta_splited\n",
    "dta.cache()\n",
    "\n",
    "print 'original:',dta.take(1)\n",
    "print dta.count()\n",
    "\n",
    "# re-set index of categorical features\n",
    "\n",
    "feature_dist=[]\n",
    "\n",
    "for i in range(0, num_cols):\n",
    "    tmp1 = dta.map(lambda line: line[i+1]).distinct().collect()\n",
    "    feature_dist.append(tmp1)\n",
    "\n",
    "fea_cnt= num_cols\n",
    "fea_map=[]\n",
    "\n",
    "for i in range(0, fea_cnt):\n",
    "    tmpcnt = len(feature_dist[i])\n",
    "    val_map= dict( zip(feature_dist[i], range(0,tmpcnt)) )\n",
    "    fea_map.append(val_map)\n",
    "\n",
    "def reset_index( line ):\n",
    "    tmp=[ line[0] ]\n",
    "    for i in range(0, num_cols):\n",
    "        tmp.append( fea_map[i][ line[i+1] ] )\n",
    "    return tuple(tmp)\n",
    "\n",
    "dta = dta.map( lambda line: reset_index(line)  )\n",
    "\n",
    "print 'feature value re-indexed:',dta.first()\n",
    "print dta.count()\n",
    "  \n",
    "    \n",
    "print 'done'\n",
    "\n",
    "print 'check:'\n",
    "\n",
    "for i in range(0, num_cols):\n",
    "    tmp1 = dta.map(lambda line: line[i+1]).distinct().collect()\n",
    "    print len(tmp1)\n"
   ]
  },
  {
   "cell_type": "code",
   "execution_count": null,
   "metadata": {
    "collapsed": false
   },
   "outputs": [],
   "source": [
    "# re-set index of categorical features\n",
    "\n",
    "feature_dist=[]\n",
    "\n",
    "tmp1 = dta.map(lambda line: line[1]).distinct().collect()\n",
    "feature_dist.append(tmp1)\n",
    "\n",
    "tmp1 = dta.map(lambda line: line[2]).distinct().collect()\n",
    "feature_dist.append(tmp1)\n",
    "\n",
    "tmp1 = dta.map(lambda line: line[3]).distinct().collect()\n",
    "feature_dist.append(tmp1)\n",
    "\n",
    "fea_cnt= len(feature_dist )\n",
    "fea_map=[]\n",
    "\n",
    "for i in range(0, fea_cnt):\n",
    "    tmpcnt = len(feature_dist[i])\n",
    "    val_map= dict( zip(feature_dist[i], range(0,tmpcnt)) )\n",
    "    fea_map.append(val_map)\n",
    "\n",
    "def reset_index( line ):\n",
    "    tmp=[]\n",
    "    tmp.append(line[0])\n",
    "    for i in range(1,4):\n",
    "        tmp.append(fea_map[i-1][ line[i] ] )\n",
    "    return tmp\n",
    "\n",
    "dta_newVal = dta.map( lambda line: reset_index(line)  )"
   ]
  },
  {
   "cell_type": "code",
   "execution_count": 9,
   "metadata": {
    "collapsed": false
   },
   "outputs": [
    {
     "name": "stdout",
     "output_type": "stream",
     "text": [
      "[46.7446171548, 2, 2, 0]\n"
     ]
    }
   ],
   "source": [
    "print dta_newVal.first()"
   ]
  },
  {
   "cell_type": "code",
   "execution_count": 13,
   "metadata": {
    "collapsed": false,
    "scrolled": true
   },
   "outputs": [
    {
     "name": "stdout",
     "output_type": "stream",
     "text": [
      "running time and erros at height 1 : 19.4970300198 101402465.91 9964782735.36\n",
      "running time and erros at height 2 : 20.6502051353 101550340.82 9964627545.98\n",
      "running time and erros at height 3 : 20.1008448601 101828679.677 9964374332.92\n",
      "running time and erros at height 4 : 20.8461809158 102249230.021 9963973474.32\n",
      "running time and erros at height 5 : 20.0653610229 102772523.059 9963463588.65\n",
      "running time and erros at height 6 : 21.0603451729 103557778.868 9962743681.94\n",
      "running time and erros at height 7 : 21.5595140457 104943637.809 9961407633.51\n",
      "running time and erros at height 8 : 22.9231832027 106383661.77 9959995818.43\n",
      "running time and erros at height 9 : 23.8721840382 108179315.907 9958222798.38\n"
     ]
    }
   ],
   "source": [
    "#training and testing phase\n",
    "from pyspark.mllib.regression import LabeledPoint\n",
    "from pyspark.mllib.tree import DecisionTree, DecisionTreeModel\n",
    "from pyspark.mllib.util import MLUtils\n",
    "import time\n",
    "\n",
    "#synthetic data:\n",
    "\n",
    "#------------- small data set\n",
    "# with outliers\n",
    "# dta = dta_newVal\n",
    "tmprdd = dta\n",
    "# dta.takeSample(False, 100000, 12243)\n",
    "\n",
    "\n",
    "# dta_train = sc.parallelize(tmpdta).cache().sample(False, .7, 12345)\n",
    "# dta_test = sc.parallelize(tmpdta).cache().sample(False, .3, 43243)\n",
    "\n",
    "# # without outliers\n",
    "# tmpdta = dta.filter(lambda line: line[0]<1000).takeSample(False, 100000, 12243)\n",
    "# dta_train = tmpdta.sample(False, .7, 12345)\n",
    "# dta_test = tmpdta.sample(False, .3, 43243)\n",
    "\n",
    "\n",
    "#----------- big data set\n",
    "\n",
    "#with outliers\n",
    "# labeledData =  dta.map(lambda line: LabeledPoint( \n",
    "#         line[ 0 ], [ line[1],line[2],line[3] ] ) ).cache()\n",
    "# (trainingData, testData) = labeledData.randomSplit([0.7, 0.3])\n",
    "# testData = testData.filter(lambda line: line.label < 1000 ).cache()\n",
    "\n",
    "#without outliers\n",
    "# dta= dta.filter(lambda line: line[0]<1000)\n",
    "# dta_train = dta.sample(False, .7, 12345)\n",
    "# dta_test = dta.sample(False, .3, 43243)\n",
    "\n",
    "tmprdd= tmprdd.filter(lambda line: line[0]<1000)\n",
    "\n",
    "labeledData = tmprdd.map(lambda line: LabeledPoint( \n",
    "        line[ 0 ], [ line[1],line[2],line[3],line[4] ] ) ).cache()\n",
    "(trainingData, testData) = labeledData.randomSplit([0.7, 0.3])\n",
    "\n",
    "testData = testData.filter(lambda line: line.label < 1000 ).cache()\n",
    "\n",
    "\n",
    "#real data\n",
    "# labeledData =  dta.map(lambda line: LabeledPoint( \n",
    "#         line[ 0 ], [ line[1],line[2],line[3],line[4],line[5],line[6],line[7] ] ) ).cache()\n",
    "# (trainingData, testData) = labeledData.randomSplit([0.7, 0.3])\n",
    "\n",
    "\n",
    "\n",
    "\n",
    "# 'hour': 15,\n",
    "#         'minute': 4,\n",
    "#         'target': 10,\n",
    "#         #'packet_size': 6,\n",
    "#         #'stream_rate': 7,\n",
    "#         #'duration':8,\n",
    "#         #'packets_up_sent':9,\n",
    "#         #'packets_down_sent':10,\n",
    "#         #'packets_up_recv':11,\n",
    "#         #'packets_down_recv':12,\n",
    "#         #'jitter_up':13,\n",
    "#         #'jitter_down':14,\n",
    "#         #'latency':15,\n",
    "#         #'successes':16,\n",
    "#         #'failures':17,\n",
    "#         #'location_id':18,\n",
    "#         'ranNode':5,\n",
    "#         'apNode':21,\n",
    "#         'hubType':13,\n",
    "#         'headlineSpeed':4\n",
    "\n",
    "maxdepth=10\n",
    "train_err=[]\n",
    "test_err=[]\n",
    "\n",
    "train_cnt = trainingData.count()\n",
    "test_cnt= testData.count()\n",
    "\n",
    "for i in range(1,maxdepth):\n",
    "    \n",
    "    time_start = time.time()\n",
    "    \n",
    "    \n",
    "    #synthetic data\n",
    "    model = DecisionTree.trainRegressor(trainingData, categoricalFeaturesInfo={\n",
    "                                                                           0:5,\n",
    "                                                                           1:5,\n",
    "                                                                           2:5,\n",
    "            3:5\n",
    "                                                                          \n",
    "    },\n",
    "                                    impurity='variance',maxDepth=i, maxBins=12)\n",
    "    \n",
    "    \n",
    "    #bt data\n",
    "#     model = DecisionTree.trainRegressor(trainingData, categoricalFeaturesInfo={\n",
    "#                                                                            0:24,\n",
    "#                                                                            1:60,\n",
    "#                                                                            2:10,\n",
    "#                                                                            3:5,\n",
    "#                                                                            4:21,\n",
    "#                                                                            5:13,\n",
    "#                                                                            6:4,\n",
    "#     },\n",
    "#                                     impurity='variance',maxDepth=i, maxBins=128)\n",
    "    \n",
    "    \n",
    "    \n",
    "#     test error\n",
    "    \n",
    "    predictions = model.predict(testData.map(lambda x: x.features))\n",
    "    zip_Pred_True = testData.map(lambda lp: lp.label).zip( predictions ).cache()\n",
    "    indivi_error = zip_Pred_True.map(lambda line: (line[0]-line[1])*(line[0]-line[1]) ).cache()\n",
    "    mse_test = indivi_error.reduce(lambda a,b:a+b)\n",
    "    mse_test = mse_test*1.0/test_cnt\n",
    "    test_err.append(mse_test)\n",
    "    \n",
    "#     train error\n",
    "    predictions = model.predict(trainingData.map(lambda x: x.features))\n",
    "    zip_Pred_True = trainingData.map(lambda lp: lp.label).zip( predictions ).cache()\n",
    "    indivi_error = zip_Pred_True.map(lambda line: (line[0]-line[1])*(line[0]-line[1]) ).cache()\n",
    "    \n",
    "#     tmp_error = zip_Pred_True.map(lambda line: (line[0], line[1]) ).cache()\n",
    "#     print tmp_error.take(10)\n",
    "\n",
    "    mse_train = indivi_error.reduce(lambda a,b:a+b)\n",
    "    mse_train = mse_train*1.0/train_cnt\n",
    "    train_err.append(mse_train)\n",
    "   \n",
    "    time_end = time.time()    \n",
    "\n",
    "    print \"running time and erros at height\",i,\":\", time_end-time_start, mse_test,mse_train\n"
   ]
  },
  {
   "cell_type": "code",
   "execution_count": null,
   "metadata": {
    "collapsed": true
   },
   "outputs": [],
   "source": [
    "# on train and test data both without outliers\n",
    "\n",
    "running time and erros at height 1 : 18.9744870663 722.37660334 720.139181348\n",
    "running time and erros at height 2 : 18.962387085 679.852680692 678.66003154\n",
    "running time and erros at height 3 : 19.0878767967 608.829640431 606.553416498\n",
    "running time and erros at height 4 : 19.4857621193 527.906059957 526.374209754\n",
    "running time and erros at height 5 : 19.5220520496 461.922088383 461.399140165\n",
    "running time and erros at height 6 : 19.9224638939 346.944270107 347.909045663\n",
    "running time and erros at height 7 : 20.3125560284 229.865682586 230.084203021\n",
    "running time and erros at height 8 : 20.2837090492 143.352491807 143.085781311\n",
    "running time and erros at height 9 : 20.649379015 39.0053747399 38.570980675\n",
    "running time and erros at height 10 : 21.0373589993 25.9537416282 25.8276432079\n",
    "running time and erros at height 11 : 20.987612009 1.00016091042 0.999460126833\n",
    "running time and erros at height 12 : 21.3461098671 1.00016091042 0.999460126833\n",
    "running time and erros at height 13 : 21.3442320824 1.00016091042 0.999460126833\n",
    "running time and erros at height 14 : 21.253237009 1.00016091042 0.999460126833"
   ]
  },
  {
   "cell_type": "code",
   "execution_count": 6,
   "metadata": {
    "collapsed": false
   },
   "outputs": [
    {
     "name": "stdout",
     "output_type": "stream",
     "text": [
      "[(1, 234), (10, 22), (100, 2)]\n"
     ]
    }
   ],
   "source": [
    "a=[ (100,2),(10,22),(1,234)  ]\n",
    "a.sort()\n",
    "print a"
   ]
  },
  {
   "cell_type": "code",
   "execution_count": null,
   "metadata": {
    "collapsed": true
   },
   "outputs": [],
   "source": [
    "# both with outliers \n",
    "running time and erros at height 1 : 20.6397321224 983349.243325 991399.134686\n",
    "running time and erros at height 2 : 19.5490319729 983391.372498 991346.758955\n",
    "running time and erros at height 3 : 20.1271951199 983390.447478 991255.563213\n",
    "running time and erros at height 4 : 20.2735199928 983410.746998 991192.600536\n",
    "running time and erros at height 5 : 19.5360870361 983287.677277 991027.759265\n",
    "running time and erros at height 6 : 20.063762188 983218.90788 990908.760448\n",
    "running time and erros at height 7 : 20.1945250034 983229.280591 990779.857888\n",
    "running time and erros at height 8 : 20.6074650288 983110.239005 990621.396472\n",
    "running time and erros at height 9 : 20.4585950375 982926.661357 990461.077372\n",
    "running time and erros at height 10 : 21.2975130081 982866.463943 990423.471928\n",
    "running time and erros at height 11 : 21.0770521164 982866.463943 990423.471928\n",
    "running time and erros at height 12 : 21.0534451008 982866.463943 990423.471928\n",
    "running time and erros at height 13 : 21.1476588249 982866.463943 990423.471928\n",
    "running time and erros at height 14 : 20.8445160389 982866.463943 990423.471928"
   ]
  }
 ],
 "metadata": {
  "kernelspec": {
   "display_name": "Python 2",
   "language": "python",
   "name": "python2"
  },
  "language_info": {
   "codemirror_mode": {
    "name": "ipython",
    "version": 2
   },
   "file_extension": ".py",
   "mimetype": "text/x-python",
   "name": "python",
   "nbconvert_exporter": "python",
   "pygments_lexer": "ipython2",
   "version": "2.7.8"
  }
 },
 "nbformat": 4,
 "nbformat_minor": 0
}
