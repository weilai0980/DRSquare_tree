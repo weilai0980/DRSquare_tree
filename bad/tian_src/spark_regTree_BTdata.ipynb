{
 "cells": [
  {
   "cell_type": "code",
   "execution_count": 1,
   "metadata": {
    "collapsed": true
   },
   "outputs": [],
   "source": [
    "%matplotlib inline\n",
    "\n",
    "import os \n",
    "import sys \n",
    "import time\n",
    "import hashlib\n",
    "\n",
    "from datetime  import datetime \n",
    "\n",
    "import numpy as np  # learn \n",
    "import pandas as pd # learn\n",
    "from pandas import *\n",
    "from numpy import *\n",
    "\n",
    "from scipy import stats # look at scipy\n",
    "from scipy import linalg\n",
    "from scipy import *\n",
    "\n",
    " \n",
    "import matplotlib as mplt # learn matplolib \n",
    "from matplotlib import cm\n",
    "import matplotlib.pyplot as plt\n",
    "import matplotlib.gridspec as gridspec\n",
    "\n",
    "from mpl_toolkits.mplot3d import Axes3D\n",
    "from mpl_toolkits.mplot3d import proj3d\n",
    "\n",
    "import seaborn as sns \n",
    "sns.set_style(\"whitegrid\")\n",
    "sns.set(rc={\"figure.figsize\": (14, 6)})\n",
    "\n",
    "import IPython\n",
    "from IPython.display import display\n",
    "\n",
    "\n",
    "import matplotlib\n",
    "from matplotlib.ticker import FuncFormatter\n",
    "import matplotlib.pyplot as plt\n",
    " \n",
    "import sklearn as sk\n",
    "import itertools\n",
    "\n",
    "\n",
    "\n",
    "from pyspark import SparkContext, SparkConf\n",
    "from pyspark.sql import SQLContext\n",
    "from pyspark.sql.types import *\n",
    "\n",
    "from pyspark.mllib.regression import LabeledPoint\n"
   ]
  },
  {
   "cell_type": "code",
   "execution_count": 4,
   "metadata": {
    "collapsed": false
   },
   "outputs": [
    {
     "name": "stdout",
     "output_type": "stream",
     "text": [
      "123982,1397195065,4,11,7,5,160,64000,10046236,500,500,500,500,384,297,87851,1,0,288599,1.0,4.0,11.0,2.0\n"
     ]
    }
   ],
   "source": [
    "# data preparison: load data\n",
    "dta_RDD = sc.textFile(\"file:///home/tguo/data/tian-test/udpjitter-H1april2014_regTree.csv\")\n",
    "\n",
    "# data preparison:  feature index dictionary in the raw data set \n",
    "\n",
    "dict_feature = {'unit_id': 0,\n",
    "       'dtime': 1,\n",
    "        'day': 2,\n",
    "        'hour': 3,\n",
    "        'minute': 4,\n",
    "        'target': 5,\n",
    "        'packet_size': 6,\n",
    "        'stream_rate': 7,\n",
    "        'duration':8,\n",
    "        'packets_up_sent':9,\n",
    "        'packets_down_sent':10,\n",
    "        'packets_up_recv':11,\n",
    "        'packets_down_recv':12,\n",
    "        'jitter_up':13,\n",
    "        'jitter_down':14,\n",
    "        'latency':15,\n",
    "        'successes':16,\n",
    "        'failures':17,\n",
    "        'location_id':18,\n",
    "        'ranNode':19,\n",
    "        'apNode':20,\n",
    "        'hubType':21,\n",
    "        'headlineSpeed':22\n",
    "       };\n",
    "\n",
    "dict_feature_distValues = {\n",
    "       #'unit_id': 0,\n",
    "       #'dtime': 1,\n",
    "        'day': 1,\n",
    "        'hour': 15,\n",
    "        'minute': 24, # remember to change\n",
    "        'target': 10,\n",
    "        #'packet_size': 6,\n",
    "        #'stream_rate': 7,\n",
    "        #'duration':8,\n",
    "        #'packets_up_sent':9,\n",
    "        #'packets_down_sent':10,\n",
    "        #'packets_up_recv':11,\n",
    "        #'packets_down_recv':12,\n",
    "        #'jitter_up':13,\n",
    "        #'jitter_down':14,\n",
    "        #'latency':15,\n",
    "        #'successes':16,\n",
    "        #'failures':17,\n",
    "        #'location_id':18,\n",
    "        'ranNode':5,\n",
    "        'apNode':21,\n",
    "        'hubType':13,\n",
    "        'headlineSpeed':4\n",
    "       };\n",
    "\n",
    "categorial_features = ['target', 'ranNode', 'apNode', 'hubType','headlineSpeed']\n",
    "\n",
    "header = dta_RDD.filter(lambda line: \"unit_id\" in line)\n",
    "# toremove_header.collect()\n",
    "\n",
    "# header=dta_RDD.take(1)\n",
    "# print type(header)\n",
    "dta_noheader= dta_RDD.subtract(header)   \n",
    "\n",
    "print dta_noheader.first()\n",
    "\n"
   ]
  },
  {
   "cell_type": "code",
   "execution_count": 27,
   "metadata": {
    "collapsed": false
   },
   "outputs": [
    {
     "ename": "NameError",
     "evalue": "name 'r' is not defined",
     "output_type": "error",
     "traceback": [
      "\u001b[1;31m---------------------------------------------------------------------------\u001b[0m",
      "\u001b[1;31mNameError\u001b[0m                                 Traceback (most recent call last)",
      "\u001b[1;32m<ipython-input-27-9ea9d7586679>\u001b[0m in \u001b[0;36m<module>\u001b[1;34m()\u001b[0m\n\u001b[1;32m----> 1\u001b[1;33m dta_splited = dta_noheader.map(lambda line: line.split(\",\")).map(lambda r:r[0],r[1],  float(r[2]), float(r[3]),\n\u001b[0m\u001b[0;32m      2\u001b[0m                                                                 \u001b[0mfloat\u001b[0m\u001b[1;33m(\u001b[0m\u001b[0mr\u001b[0m\u001b[1;33m[\u001b[0m\u001b[1;36m4\u001b[0m\u001b[1;33m]\u001b[0m\u001b[1;33m)\u001b[0m\u001b[1;33m,\u001b[0m \u001b[0mfloat\u001b[0m\u001b[1;33m(\u001b[0m\u001b[0mr\u001b[0m\u001b[1;33m[\u001b[0m\u001b[1;36m5\u001b[0m\u001b[1;33m]\u001b[0m\u001b[1;33m)\u001b[0m\u001b[1;33m,\u001b[0m \u001b[0mfloat\u001b[0m\u001b[1;33m(\u001b[0m\u001b[0mr\u001b[0m\u001b[1;33m[\u001b[0m\u001b[1;36m6\u001b[0m\u001b[1;33m]\u001b[0m\u001b[1;33m)\u001b[0m\u001b[1;33m,\u001b[0m \u001b[0mfloat\u001b[0m\u001b[1;33m(\u001b[0m\u001b[0mr\u001b[0m\u001b[1;33m[\u001b[0m\u001b[1;36m7\u001b[0m\u001b[1;33m]\u001b[0m\u001b[1;33m)\u001b[0m\u001b[1;33m,\u001b[0m\u001b[1;33m\u001b[0m\u001b[0m\n\u001b[0;32m      3\u001b[0m                                                                 \u001b[0mfloat\u001b[0m\u001b[1;33m(\u001b[0m\u001b[0mr\u001b[0m\u001b[1;33m[\u001b[0m\u001b[1;36m8\u001b[0m\u001b[1;33m]\u001b[0m\u001b[1;33m)\u001b[0m\u001b[1;33m,\u001b[0m \u001b[0mfloat\u001b[0m\u001b[1;33m(\u001b[0m\u001b[0mr\u001b[0m\u001b[1;33m[\u001b[0m\u001b[1;36m9\u001b[0m\u001b[1;33m]\u001b[0m\u001b[1;33m)\u001b[0m\u001b[1;33m,\u001b[0m \u001b[0mfloat\u001b[0m\u001b[1;33m(\u001b[0m\u001b[0mr\u001b[0m\u001b[1;33m[\u001b[0m\u001b[1;36m10\u001b[0m\u001b[1;33m]\u001b[0m\u001b[1;33m)\u001b[0m\u001b[1;33m,\u001b[0m\u001b[0mfloat\u001b[0m\u001b[1;33m(\u001b[0m\u001b[0mr\u001b[0m\u001b[1;33m[\u001b[0m\u001b[1;36m11\u001b[0m\u001b[1;33m]\u001b[0m\u001b[1;33m)\u001b[0m\u001b[1;33m,\u001b[0m\u001b[1;33m\u001b[0m\u001b[0m\n\u001b[0;32m      4\u001b[0m                                                                 \u001b[0mfloat\u001b[0m\u001b[1;33m(\u001b[0m\u001b[0mr\u001b[0m\u001b[1;33m[\u001b[0m\u001b[1;36m12\u001b[0m\u001b[1;33m]\u001b[0m\u001b[1;33m)\u001b[0m\u001b[1;33m,\u001b[0m\u001b[0mfloat\u001b[0m\u001b[1;33m(\u001b[0m\u001b[0mr\u001b[0m\u001b[1;33m[\u001b[0m\u001b[1;36m13\u001b[0m\u001b[1;33m]\u001b[0m\u001b[1;33m)\u001b[0m\u001b[1;33m,\u001b[0m\u001b[0mfloat\u001b[0m\u001b[1;33m(\u001b[0m\u001b[0mr\u001b[0m\u001b[1;33m[\u001b[0m\u001b[1;36m14\u001b[0m\u001b[1;33m]\u001b[0m\u001b[1;33m)\u001b[0m\u001b[1;33m,\u001b[0m\u001b[0mfloat\u001b[0m\u001b[1;33m(\u001b[0m\u001b[0mr\u001b[0m\u001b[1;33m[\u001b[0m\u001b[1;36m15\u001b[0m\u001b[1;33m]\u001b[0m\u001b[1;33m)\u001b[0m\u001b[1;33m,\u001b[0m\u001b[1;33m\u001b[0m\u001b[0m\n\u001b[0;32m      5\u001b[0m                                                                 \u001b[0mfloat\u001b[0m\u001b[1;33m(\u001b[0m\u001b[0mr\u001b[0m\u001b[1;33m[\u001b[0m\u001b[1;36m16\u001b[0m\u001b[1;33m]\u001b[0m\u001b[1;33m)\u001b[0m\u001b[1;33m,\u001b[0m\u001b[0mfloat\u001b[0m\u001b[1;33m(\u001b[0m\u001b[0mr\u001b[0m\u001b[1;33m[\u001b[0m\u001b[1;36m17\u001b[0m\u001b[1;33m]\u001b[0m\u001b[1;33m)\u001b[0m\u001b[1;33m,\u001b[0m\u001b[0mfloat\u001b[0m\u001b[1;33m(\u001b[0m\u001b[0mr\u001b[0m\u001b[1;33m[\u001b[0m\u001b[1;36m18\u001b[0m\u001b[1;33m]\u001b[0m\u001b[1;33m)\u001b[0m\u001b[1;33m,\u001b[0m\u001b[0mfloat\u001b[0m\u001b[1;33m(\u001b[0m\u001b[0mr\u001b[0m\u001b[1;33m[\u001b[0m\u001b[1;36m19\u001b[0m\u001b[1;33m]\u001b[0m\u001b[1;33m)\u001b[0m\u001b[1;33m,\u001b[0m\u001b[1;33m\u001b[0m\u001b[0m\n",
      "\u001b[1;31mNameError\u001b[0m: name 'r' is not defined"
     ]
    }
   ],
   "source": [
    "dta_splited = dta_noheader.map(lambda line: line.split(\",\")).map(lambda r: (r[0],r[1],  float(r[2]), float(r[3]),\n",
    "                                                                float(r[4]), float(r[5]), float(r[6]), float(r[7]),\n",
    "                                                                float(r[8]), float(r[9]), float(r[10]),float(r[11]),\n",
    "                                                                float(r[12]),float(r[13]),float(r[14]),float(r[15]),\n",
    "                                                                float(r[16]),float(r[17]),float(r[18]),float(r[19]),\n",
    "                                                                float(r[20]),float(r[21]),float(r[22]))  )\n"
   ]
  },
  {
   "cell_type": "code",
   "execution_count": 6,
   "metadata": {
    "collapsed": false
   },
   "outputs": [
    {
     "name": "stdout",
     "output_type": "stream",
     "text": [
      "loaded data\n"
     ]
    }
   ],
   "source": [
    "\n",
    "dict_dta_columns = {'jitter_down':0,'hour':1 ,'minute':2 ,'target':3, \n",
    "                    'ranNode':4, 'apNode':5, 'hubType':6,'headlineSpeed':7}\n",
    "\n",
    "categorial_features = [ 'ranNode','apNode', 'hubType','headlineSpeed' ]\n",
    "\n",
    "dta_columns= dta_splited.map( lambda line: ( line[ dict_feature['jitter_down']], line[ dict_feature['hour']], \n",
    "                            line[ dict_feature['minute']],      line[ dict_feature['target']],\n",
    "                            line[ dict_feature['ranNode']],     line[ dict_feature['apNode']],\n",
    "                            line[ dict_feature['hubType']],     line[ dict_feature['headlineSpeed']]  \n",
    "                           ))\n",
    "\n",
    "print 'loaded data'\n",
    "\n",
    "dta_ready=dta_columns\n",
    "\n",
    "# for test\n",
    "#dta_ready= dta_columns.take(100000) \n",
    "#dta_ready= sc.parallelize(dta_ready)\n"
   ]
  },
  {
   "cell_type": "code",
   "execution_count": 35,
   "metadata": {
    "collapsed": false
   },
   "outputs": [
    {
     "data": {
      "text/plain": [
       "[(278.0, 6.0, 7.0, 9.0, 5.0, 8.0, 12.0, 4.0),\n",
       " (450.0, 2.0, 16.0, 4.0, 6.0, 10.0, 10.0, 4.0)]"
      ]
     },
     "execution_count": 35,
     "metadata": {},
     "output_type": "execute_result"
    }
   ],
   "source": [
    "dta_ready.take(2)\n",
    "\n",
    "[278.0, 6.0, 7.0, 9.0, 4, 16, 3, 2], [450.0, 2.0, 16.0, 4.0, 1, 10, 6, 2]"
   ]
  },
  {
   "cell_type": "code",
   "execution_count": 49,
   "metadata": {
    "collapsed": false
   },
   "outputs": [
    {
     "name": "stdout",
     "output_type": "stream",
     "text": [
      "4\n",
      "5 {0.0: 0, 1.0: 2, 2.0: 3, 5.0: 4, 6.0: 1}\n",
      "21 {0.0: 0, 1.0: 7, 2.0: 14, 3.0: 1, 4.0: 8, 5.0: 15, 6.0: 2, 7.0: 9, 8.0: 16, 9.0: 3, 10.0: 10, 11.0: 17, 12.0: 4, 13.0: 11, 14.0: 18, 15.0: 5, 16.0: 12, 17.0: 19, 18.0: 6, 19.0: 13, 20.0: 20}\n",
      "13 {0.0: 0, 1.0: 5, 2.0: 10, 3.0: 2, 4.0: 7, 5.0: 12, 6.0: 4, 7.0: 8, 8.0: 9, 9.0: 1, 10.0: 6, 11.0: 11, 12.0: 3}\n",
      "4 {0.0: 0, 2.0: 3, 3.0: 1, 4.0: 2}\n"
     ]
    }
   ],
   "source": [
    "def reset_index_categ(fulldata_rdd, feature):\n",
    "    numValues=  dict_feature_distValues[feature]\n",
    "    values= fulldata_rdd.map(lambda line: line[ dict_dta_columns[feature] ]).distinct().collect()\n",
    "    return dict(zip(values, range(0,numValues)))\n",
    "     \n",
    "numCateFeature = len(categorial_features)\n",
    "\n",
    "print numCateFeature\n",
    "\n",
    "index_cateFeatures=[]\n",
    "for i in range(0,numCateFeature):\n",
    "    tmpdict= reset_index_categ(dta_ready, categorial_features[i]) \n",
    "    index_cateFeatures.append(tmpdict)\n",
    "    print len(tmpdict),tmpdict"
   ]
  },
  {
   "cell_type": "code",
   "execution_count": 7,
   "metadata": {
    "collapsed": true
   },
   "outputs": [],
   "source": [
    "index_cateFeatures=[]\n",
    "\n",
    "# categorial_features = ['target', 'ranNode', 'apNode', 'hubType','headlineSpeed']\n",
    "\n",
    "# tmpdict={0.0: 0, 1.0: 4, 2.0: 8, 3.0: 2, 4.0: 5, 5.0: 9, 6.0: 3, 7.0: 6, 8.0: 7, 9.0: 1}\n",
    "# index_cateFeatures.append(tmpdict)\n",
    "\n",
    "tmpdict={0.0: 0, 1.0: 2, 2.0: 3, 5.0: 4, 6.0: 1}\n",
    "index_cateFeatures.append(tmpdict)\n",
    "\n",
    "tmpdict={0.0: 0, 1.0: 7, 2.0: 14, 3.0: 1, 4.0: 8, 5.0: 15, 6.0: 2, 7.0: 9, 8.0: 16, 9.0: 3, 10.0: 10, 11.0: 17, 12.0: 4, \n",
    "         13.0: 11, 14.0: 18, 15.0: 5, 16.0: 12, 17.0: 19, 18.0: 6, 19.0: 13, 20.0: 20}\n",
    "index_cateFeatures.append(tmpdict)\n",
    "\n",
    "tmpdict={0.0: 0, 1.0: 5, 2.0: 10, 3.0: 2, 4.0: 7, 5.0: 12, 6.0: 4, 7.0: 8, 8.0: 9, 9.0: 1, 10.0: 6, 11.0: 11, 12.0: 3}\n",
    "index_cateFeatures.append(tmpdict)\n",
    "\n",
    "tmpdict={0.0: 0, 2.0: 3, 3.0: 1, 4.0: 2}\n",
    "index_cateFeatures.append(tmpdict)"
   ]
  },
  {
   "cell_type": "code",
   "execution_count": 8,
   "metadata": {
    "collapsed": false
   },
   "outputs": [
    {
     "name": "stdout",
     "output_type": "stream",
     "text": [
      "[4, 5, 6, 7]\n"
     ]
    }
   ],
   "source": [
    "categorial_features_idx=[]\n",
    "\n",
    "def feature_idx(feat):\n",
    "    return dict_dta_columns[feat]\n",
    "\n",
    "categorial_features_idx = map(feature_idx, categorial_features)\n",
    "print categorial_features_idx\n"
   ]
  },
  {
   "cell_type": "code",
   "execution_count": 25,
   "metadata": {
    "collapsed": false
   },
   "outputs": [
    {
     "data": {
      "text/plain": [
       "(1, 2, 1)"
      ]
     },
     "execution_count": 25,
     "metadata": {},
     "output_type": "execute_result"
    }
   ],
   "source": [
    "tmprow= (1,2)\n",
    "tmprow= tmprow + (1,)\n",
    "tmprow\n"
   ]
  },
  {
   "cell_type": "code",
   "execution_count": 21,
   "metadata": {
    "collapsed": false
   },
   "outputs": [
    {
     "data": {
      "text/plain": [
       "(385.0, 8.0, 9.0, 2.0, 2, 8, 1, 3)"
      ]
     },
     "execution_count": 21,
     "metadata": {},
     "output_type": "execute_result"
    }
   ],
   "source": [
    "def transform_line(line):\n",
    "    tmprow = ()\n",
    "    for i in range(0,cnt_dta_columns):\n",
    "        if i in categorial_features_idx:\n",
    "            tmprow= tmprow+ (index_cateFeatures[ i-4 ][ line[i] ],)\n",
    "            \n",
    "#             tmpline.append(  index_cateFeatures[ i-4 ][ line[i] ] )\n",
    "        else:\n",
    "        \n",
    "#             tmprow = tmprow + (index_cateFeatures[ i-4 ][ line[i] ]\n",
    "            tmprow = tmprow + (line[i],)        \n",
    "    return tmprow\n",
    "\n",
    "cnt_dta_columns = len(dict_dta_columns) \n",
    "\n",
    "dta_resetIdx = dta_ready.map(lambda line: transform_line(line))\n",
    "\n",
    "dta_resetIdx.first()\n",
    "\n",
    "# categorial_features_idx.index(i)"
   ]
  },
  {
   "cell_type": "code",
   "execution_count": 36,
   "metadata": {
    "collapsed": false
   },
   "outputs": [
    {
     "data": {
      "text/plain": [
       "(267.0, 9.0, 13.0, 8.0, 2, 13, 3, 2)"
      ]
     },
     "execution_count": 36,
     "metadata": {},
     "output_type": "execute_result"
    }
   ],
   "source": [
    "dta_resetIdx.first()\n"
   ]
  },
  {
   "cell_type": "code",
   "execution_count": 35,
   "metadata": {
    "collapsed": false
   },
   "outputs": [],
   "source": [
    "dta_resetIdx.map(lambda line: str(line[0])+ \",\" + str(line[1])+ \n",
    "                              \",\" + str(line[2])+ \",\" + str(line[3])+ \n",
    "                              \",\" + str(line[4])+ \",\" + str(line[5])+\n",
    "                              \",\" + str(line[6])+ \",\" + str(line[7]) \n",
    "                ).saveAsTextFile(\"hdfs://computer61.ant-net/user/tguo/udpjitter-H1april2014_regTree_mllib.csv\")\n",
    "\n",
    "# saveAsTextFile(\"hdfs://computer61.ant-net/user/tguo/tian_udpjitter-H1april2014_regTree_mllib.csv\")"
   ]
  },
  {
   "cell_type": "code",
   "execution_count": 37,
   "metadata": {
    "collapsed": true
   },
   "outputs": [],
   "source": [
    "#model training: cross-validation for regression tree with categorical features\n",
    "from pyspark.mllib.regression import LabeledPoint\n",
    "from pyspark.mllib.tree import DecisionTree, DecisionTreeModel\n",
    "from pyspark.mllib.util import MLUtils\n",
    "\n",
    "training_error=[]\n",
    "test_error=[]\n",
    "\n",
    "labeledData=  dta_resetIdx.map(lambda line: LabeledPoint( \n",
    "        line[0],[line[1],line[2],line[3],\n",
    "        line[4], line[5],line[6],line[7]]))\n"
   ]
  },
  {
   "cell_type": "code",
   "execution_count": 52,
   "metadata": {
    "collapsed": false
   },
   "outputs": [],
   "source": [
    "(datasubset, test_subset) = labeledData.randomSplit([0.005, 0.2])"
   ]
  },
  {
   "cell_type": "code",
   "execution_count": 53,
   "metadata": {
    "collapsed": false
   },
   "outputs": [
    {
     "name": "stdout",
     "output_type": "stream",
     "text": [
      "80604\n"
     ]
    }
   ],
   "source": [
    "# print labeledData.count()\n",
    "print datasubset.count()"
   ]
  },
  {
   "cell_type": "code",
   "execution_count": 54,
   "metadata": {
    "collapsed": false
   },
   "outputs": [
    {
     "name": "stdout",
     "output_type": "stream",
     "text": [
      "<class 'pyspark.rdd.PipelinedRDD'>\n"
     ]
    }
   ],
   "source": [
    "print type(datasubset)"
   ]
  },
  {
   "cell_type": "code",
   "execution_count": null,
   "metadata": {
    "collapsed": false
   },
   "outputs": [],
   "source": [
    "\n",
    "depth_up=5\n",
    "depth_low=4\n",
    "\n",
    "test_labeledData= datasubset\n",
    "\n",
    "test_labeledData=labeledData\n",
    "\n",
    "# test_labeledData= datasubset.take(1000000) \n",
    "# test_labeledData= sc.parallelize(test_labeledData)\n",
    "\n",
    "(trainingData, testData) = test_labeledData.randomSplit([0.8, 0.2])\n",
    "\n",
    "test_labels = testData.map(lambda lp: lp.label)\n",
    "# local_test_labels = test_labels.collect()\n",
    "\n",
    "train_labels = trainingData.map(lambda lp: lp.label)\n",
    "# local_train_labels = train_labels.collect()\n",
    "\n",
    "test_size= len(local_test_labels) \n",
    "train_size= len(local_train_labels) \n",
    "\n",
    "\n",
    "# {'jitter_down':0,'hour':1 ,'minute':2 ,'target':3, \n",
    "#                     'ranNode':4, 'apNode':5, 'hubType':6,'headlineSpeed':7}\n",
    "\n",
    "# 'day': 1,\n",
    "#         'hour': 15,\n",
    "#         'minute': 4,\n",
    "#         'target': 10,\n",
    "#         #'packet_size': 6,\n",
    "#         #'stream_rate': 7,\n",
    "#         #'duration':8,\n",
    "#         #'packets_up_sent':9,\n",
    "#         #'packets_down_sent':10,\n",
    "#         #'packets_up_recv':11,\n",
    "#         #'packets_down_recv':12,\n",
    "#         #'jitter_up':13,\n",
    "#         #'jitter_down':14,\n",
    "#         #'latency':15,\n",
    "#         #'successes':16,\n",
    "#         #'failures':17,\n",
    "#         #'location_id':18,\n",
    "#         'ranNode':5,\n",
    "#         'apNode':21,\n",
    "#         'hubType':13,\n",
    "#         'headlineSpeed':4\n",
    "\n",
    "start = time.time()\n",
    "\n",
    "for depth in range(depth_low, depth_up):\n",
    "    \n",
    "\n",
    "    model = DecisionTree.trainRegressor(trainingData, categoricalFeaturesInfo={\n",
    "                                                                           0:25,\n",
    "                                                                           1:61,\n",
    "                                                                           2:10,\n",
    "                                                                           3:5,\n",
    "                                                                           4:21,\n",
    "                                                                           5:13,\n",
    "                                                                           6:4,\n",
    "    },\n",
    "                                    impurity='variance', maxDepth=depth, maxBins=64)\n",
    "    \n",
    "  \n",
    "\n",
    "    test_predictions = model.predict(testData.map(lambda x: x.features))\n",
    "    local_test_predictions = test_predictions.collect()\n",
    "    \n",
    "    \n",
    "    train_predictions = model.predict(trainingData.map(lambda x: x.features))\n",
    "    local_train_predictions = train_predictions.collect()\n",
    "\n",
    "\n",
    "    # test error\n",
    "    local_test_resid=map( lambda x,y: (x-y)*(x-y), local_test_predictions,local_test_labels )\n",
    "    test_error.append( sum(local_test_resid)/test_size  )\n",
    "    \n",
    "    #training error \n",
    "    local_train_resid=map( lambda x,y: (x-y)*(x-y), local_train_predictions,local_train_labels )\n",
    "    training_error.append( sum(local_train_resid)/train_size ) \n",
    "    \n",
    "    print depth,\"depth:\", sum(local_test_resid)/test_size,sum(local_train_resid)/train_size\n",
    "    print depth,model\n",
    "\n",
    "\n",
    "    \n",
    "end = time.time()\n",
    "elapsed = end - start\n",
    "\n",
    "print elapsed,'sec'"
   ]
  },
  {
   "cell_type": "code",
   "execution_count": 2,
   "metadata": {
    "collapsed": false
   },
   "outputs": [
    {
     "data": {
      "text/plain": [
       "u'328.0,10.0,10.0,2.0,2,8,1,3'"
      ]
     },
     "execution_count": 2,
     "metadata": {},
     "output_type": "execute_result"
    }
   ],
   "source": [
    "#BT data\n",
    "\n",
    "# dta_RDD = sc.textFile(\"file:///home/tguo/data/tian-test/udpjitter-H1april2014_regTree.csv\")\n",
    "\n",
    "dta_RDD = sc.textFile(\"hdfs://computer61.ant-net/user/tguo/udpjitter-H1april2014_regTree_mllib.csv\")\n",
    "\n",
    "\n",
    "dta_RDD.cache()\n",
    "dta_RDD.first()\n",
    "\n",
    "# dta_splited = dta_RDD.map(lambda line: line.split(\",\")).map(lambda r:\n",
    "#                                                                 (float(r[0]),int( float(r[1])), \n",
    "#                                                                  int(float(r[2])),int(float(r[3])),\n",
    "#                                                                  int(float(r[4])),int(float(r[5])),\n",
    "#                                                                  int(float(r[6])),int(float(r[7])) ))\n",
    "# # dta_splited.first()\n",
    "\n",
    "# dta= dta_splited\n",
    "# dta.cache()\n",
    "# print dta.first()\n",
    "# print dta.count()"
   ]
  },
  {
   "cell_type": "code",
   "execution_count": 6,
   "metadata": {
    "collapsed": false
   },
   "outputs": [
    {
     "data": {
      "text/plain": [
       "3315067"
      ]
     },
     "execution_count": 6,
     "metadata": {},
     "output_type": "execute_result"
    }
   ],
   "source": [
    "dta_splited = dta_RDD.map(lambda line: line.split(\",\")).map(lambda r:\n",
    "                                                                (float(r[0]),int( float(r[1])), \n",
    "                                                                 int(float(r[2])),int(float(r[3])),\n",
    "                                                                 int(float(r[4])),int(float(r[5])),\n",
    "                                                                 int(float(r[6])),int(float(r[7])) ))\n",
    "dta_splited.first()\n",
    "dta = dta_splited\n",
    "dta.cache()\n",
    "dta.count()\n"
   ]
  }
 ],
 "metadata": {
  "kernelspec": {
   "display_name": "Python 2",
   "language": "python",
   "name": "python2"
  },
  "language_info": {
   "codemirror_mode": {
    "name": "ipython",
    "version": 2
   },
   "file_extension": ".py",
   "mimetype": "text/x-python",
   "name": "python",
   "nbconvert_exporter": "python",
   "pygments_lexer": "ipython2",
   "version": "2.7.8"
  }
 },
 "nbformat": 4,
 "nbformat_minor": 0
}
