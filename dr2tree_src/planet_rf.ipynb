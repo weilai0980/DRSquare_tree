{
 "cells": [
  {
   "cell_type": "code",
   "execution_count": 36,
   "metadata": {
    "collapsed": true
   },
   "outputs": [],
   "source": [
    "%matplotlib inline\n",
    "\n",
    "import os \n",
    "import sys \n",
    "import time\n",
    "import hashlib\n",
    "\n",
    "from datetime  import datetime \n",
    "\n",
    "import numpy as np  # learn \n",
    "import pandas as pd # learn\n",
    "from pandas import *\n",
    "from numpy import *\n",
    "\n",
    "from scipy import stats # look at scipy\n",
    "from scipy import linalg\n",
    "from scipy import *\n",
    "\n",
    " \n",
    "import matplotlib as mplt # learn matplolib \n",
    "from matplotlib import cm\n",
    "import matplotlib.pyplot as plt\n",
    "import matplotlib.gridspec as gridspec\n",
    "\n",
    "from mpl_toolkits.mplot3d import Axes3D\n",
    "from mpl_toolkits.mplot3d import proj3d\n",
    "\n",
    "import seaborn as sns \n",
    "sns.set_style(\"whitegrid\")\n",
    "sns.set(rc={\"figure.figsize\": (14, 6)})\n",
    "\n",
    "import IPython\n",
    "from IPython.display import display\n",
    "\n",
    "\n",
    "import matplotlib\n",
    "from matplotlib.ticker import FuncFormatter\n",
    "import matplotlib.pyplot as plt\n",
    " \n",
    "import sklearn as sk\n",
    "import itertools\n",
    "\n",
    "\n",
    "from pyspark import SparkContext, SparkConf\n",
    "from pyspark.sql import SQLContext\n",
    "from pyspark.sql.types import *\n",
    "\n",
    "from pyspark.mllib.regression import LabeledPoint\n",
    "import random\n",
    "import time\n",
    "import copy\n",
    "import heapq\n",
    "# from SyntheticDataGenerator import *\n",
    "\n",
    "from pyspark.mllib.regression import LabeledPoint\n",
    "from pyspark.mllib.tree import DecisionTree, DecisionTreeModel\n",
    "from pyspark.mllib.tree import RandomForest, RandomForestModel\n",
    "from pyspark.mllib.tree import GradientBoostedTrees, GradientBoostedTreesModel\n",
    "\n",
    "\n",
    "from pyspark.mllib.util import MLUtils"
   ]
  },
  {
   "cell_type": "code",
   "execution_count": 17,
   "metadata": {
    "collapsed": true
   },
   "outputs": [],
   "source": [
    "# parameters\n",
    "feature_num=8\n"
   ]
  },
  {
   "cell_type": "code",
   "execution_count": 20,
   "metadata": {
    "collapsed": false
   },
   "outputs": [
    {
     "name": "stdout",
     "output_type": "stream",
     "text": [
      "23.0,0,0,20,2,10,154,11,150\n",
      "(23.0, 0, 0, 20, 2, 10, 154, 11, 150)\n",
      "1288326\n"
     ]
    }
   ],
   "source": [
    "raw_rdd = sc.textFile(\"hdfs://computer61.ant-net/user/tguo/airline_data_1year.csv\")\n",
    "raw_rdd.cache()\n",
    "\n",
    "print raw_rdd.first()\n",
    "dta_rdd = raw_rdd.map(lambda line: line.split(\",\")).map(lambda r:\n",
    "                                                                (float(r[0]),\n",
    "                                                                 int(float(r[1])),int(float(r[2])),\n",
    "                                                                 int(float(r[3])),int(float(r[4])),\n",
    "                                                                 int(float(r[5])),int(float(r[6])),\n",
    "                                                                 int(float(r[7])),int(float(r[8]))))\n",
    "\n",
    "print dta_rdd.first()\n",
    "print dta_rdd.count()"
   ]
  },
  {
   "cell_type": "code",
   "execution_count": 21,
   "metadata": {
    "collapsed": false
   },
   "outputs": [
    {
     "name": "stdout",
     "output_type": "stream",
     "text": [
      "{0: 1, 1: 3, 2: 31, 3: 7, 4: 14, 5: 2161, 6: 237, 7: 237}\n"
     ]
    }
   ],
   "source": [
    "cate_map={}\n",
    "for i in range(0, feature_num):\n",
    "    cate_map.update({i: dta_rdd.map(lambda line: line[ i+1  ]).distinct().count()}  ) \n",
    "\n",
    "print cate_map"
   ]
  },
  {
   "cell_type": "code",
   "execution_count": 31,
   "metadata": {
    "collapsed": false
   },
   "outputs": [
    {
     "name": "stdout",
     "output_type": "stream",
     "text": [
      "(23.0,[0.0,0.0,20.0,2.0,10.0,154.0,11.0,150.0])\n",
      "1033.0 -1302.0\n"
     ]
    }
   ],
   "source": [
    "# prepare data\n",
    "\n",
    "labeled_dta=  dta_rdd.map(lambda line: LabeledPoint(line[0],line[1:feature_num+1]) )\n",
    "print labeled_dta.first()\n",
    "# Split the data into training and test sets (30% held out for testing)\n",
    "(train_dta, test_dta) = labeled_dta.randomSplit([0.8, 0.2])\n",
    "\n",
    "train_dta.cache() \n",
    "test_dta.cache()\n",
    "# print train_dta.count()\n",
    "# print test_dta.count()\n",
    "\n",
    "tmp_rdd = train_dta.map( lambda line: line.label)\n",
    "ymax= tmp_rdd.max()\n",
    "ymin= tmp_rdd.min()\n",
    "print ymax, ymin"
   ]
  },
  {
   "cell_type": "code",
   "execution_count": null,
   "metadata": {
    "collapsed": true
   },
   "outputs": [],
   "source": [
    "#  prepare data\n",
    "(train_dta, tmp_dta) = labeled_dta.randomSplit([0.6, 0.4])\n",
    "(test_dta, valid_dta) = tmp_dta.randomSplit([0.75, 0.25])\n",
    "\n",
    "train_dta.cache() \n",
    "test_dta.cache()\n",
    "valid_dta.cache()\n",
    "\n",
    "tmp_rdd = train_dta.map( lambda line: line.label)\n",
    "ymax= tmp_rdd.max()\n",
    "ymin= tmp_rdd.min()\n",
    "print ymax, ymin"
   ]
  },
  {
   "cell_type": "code",
   "execution_count": 40,
   "metadata": {
    "collapsed": false
   },
   "outputs": [],
   "source": [
    "# single-round test\n",
    "\n",
    "regTree = DecisionTree.trainRegressor(train_dta, categoricalFeaturesInfo = cate_map,\n",
    "                                    impurity='variance', maxDepth=8, maxBins=2200)\n",
    "\n",
    "rf = RandomForest.trainRegressor(train_dta, categoricalFeaturesInfo=cate_map,\n",
    "                                    numTrees=3, featureSubsetStrategy=\"auto\",\n",
    "                                    impurity='variance', maxDepth=4, maxBins=2200)\n",
    "\n",
    "gbt = GradientBoostedTrees.trainRegressor(train_dta,\n",
    "                                            categoricalFeaturesInfo=cate_map, numIterations=3,maxBins=2200)\n",
    "\n",
    "    "
   ]
  },
  {
   "cell_type": "code",
   "execution_count": null,
   "metadata": {
    "collapsed": true
   },
   "outputs": [],
   "source": [
    "# regressin tree\n",
    "for dep in range(1:10):\n",
    "    regTree = DecisionTree.trainRegressor(train_dta, categoricalFeaturesInfo = cate_map,\n",
    "                                    impurity='variance', maxDepth=dep, maxBins=2200)\n",
    "    print precision_test(regTree, test_dta)\n",
    "\n",
    "    "
   ]
  },
  {
   "cell_type": "code",
   "execution_count": null,
   "metadata": {
    "collapsed": true
   },
   "outputs": [],
   "source": [
    "# random forest \n",
    "for tnum in range(2:10):\n",
    "    rf = RandomForest.trainRegressor(train_dta, categoricalFeaturesInfo=cate_map,\n",
    "                                    numTrees=tnum, featureSubsetStrategy=\"auto\",\n",
    "                                    impurity='variance', maxDepth=4, maxBins=2200)\n",
    "    print precision_test(rf, test_dta)\n"
   ]
  },
  {
   "cell_type": "code",
   "execution_count": null,
   "metadata": {
    "collapsed": true
   },
   "outputs": [],
   "source": [
    "#  boosted\n",
    "for iter_num in range(2:10):\n",
    "    gbt = GradientBoostedTrees.trainRegressor(train_dta,\n",
    "                                            categoricalFeaturesInfo=cate_map, numIterations=iter_num,maxBins=2200)\n",
    "    print precision_test(gbt, test_dta)\n"
   ]
  },
  {
   "cell_type": "code",
   "execution_count": 44,
   "metadata": {
    "collapsed": false
   },
   "outputs": [
    {
     "name": "stdout",
     "output_type": "stream",
     "text": [
      "0.0108807595387\n",
      "0.0110392868024\n",
      "0.0110391531086\n"
     ]
    }
   ],
   "source": [
    "# Evaluate model on test instances and compute Normalized root-mean-square deviation (NRMSE)\n",
    "\n",
    "def precision_test(model, testDta):\n",
    "    pred = model.predict(testDta.map(lambda x: x.features))\n",
    "    local_pred = pred.collect()\n",
    "\n",
    "    labels = testDta.map(lambda x: x.label)\n",
    "    local_labels = labels.collect()\n",
    "\n",
    "#     local_predAndLabel= zip(local_pred,local_labels)\n",
    "    local_resid=map( lambda x,y: (x-y)*(x-y), local_pred,local_labels )\n",
    "    return sqrt(sum(local_resid)/len(local_pred))/(ymax-ymin)\n",
    "\n",
    "print precision_test(regTree, test_dta)\n",
    "print precision_test(rf, test_dta)\n",
    "print precision_test(gbt, test_dta)\n"
   ]
  }
 ],
 "metadata": {
  "kernelspec": {
   "display_name": "Python 2",
   "language": "python",
   "name": "python2"
  },
  "language_info": {
   "codemirror_mode": {
    "name": "ipython",
    "version": 2
   },
   "file_extension": ".py",
   "mimetype": "text/x-python",
   "name": "python",
   "nbconvert_exporter": "python",
   "pygments_lexer": "ipython2",
   "version": "2.7.8"
  }
 },
 "nbformat": 4,
 "nbformat_minor": 0
}
